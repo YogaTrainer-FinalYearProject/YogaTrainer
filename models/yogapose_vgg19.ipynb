{
  "cells": [
    {
      "cell_type": "code",
      "source": [
        "import numpy as np # linear algebra\n",
        "import pandas as pd # data processing, CSV file I/O (e.g. pd.read_csv)\n",
        "import os\n",
        "import matplotlib.pyplot as plt\n",
        "import seaborn as sns\n",
        "import tensorflow as tf\n",
        "from tensorflow import keras\n",
        "from PIL import Image\n",
        "from tensorflow.keras.preprocessing import image\n",
        "from tensorflow.keras.models import Sequential\n",
        "from tensorflow.keras.layers import Conv2D, MaxPool2D, Flatten,Dense,Dropout,BatchNormalization\n",
        "from tensorflow.keras.preprocessing.image import ImageDataGenerator\n",
        "import cv2\n",
        "from tensorflow.keras.layers import Input, Lambda, Dense, Flatten,LSTM,Bidirectional\n",
        "from tensorflow.keras.applications import VGG16, InceptionResNetV2 , VGG19\n",
        "from tensorflow.keras import regularizers\n",
        "from tensorflow.keras.optimizers import Adam,RMSprop,SGD,Adamax"
      ],
      "outputs": [],
      "execution_count": null,
      "metadata": {
        "_uuid": "3cc5a84f-a617-4b38-b76b-6a5535d88472",
        "_cell_guid": "c7a4d8b7-a578-4c81-b04a-81e7835719fa",
        "collapsed": false,
        "jupyter": {
          "outputs_hidden": false
        },
        "execution": {
          "iopub.status.busy": "2022-11-23T05:13:49.113378Z",
          "iopub.execute_input": "2022-11-23T05:13:49.113974Z",
          "iopub.status.idle": "2022-11-23T05:13:55.595562Z",
          "shell.execute_reply.started": "2022-11-23T05:13:49.113858Z",
          "shell.execute_reply": "2022-11-23T05:13:55.594699Z"
        },
        "trusted": true,
        "gather": {
          "logged": 1679853265937
        }
      }
    },
    {
      "cell_type": "code",
      "source": [
        "#!pip install opencv-python\r\n"
      ],
      "outputs": [
        {
          "output_type": "stream",
          "name": "stdout",
          "text": "Collecting opencv-python\n  Downloading opencv_python-4.7.0.72-cp37-abi3-manylinux_2_17_x86_64.manylinux2014_x86_64.whl (61.8 MB)\n\u001b[2K     \u001b[90m━━━━━━━━━━━━━━━━━━━━━━━━━━━━━━━━━━━━━━━━\u001b[0m \u001b[32m61.8/61.8 MB\u001b[0m \u001b[31m15.8 MB/s\u001b[0m eta \u001b[36m0:00:00\u001b[0m00:01\u001b[0m00:01\u001b[0m\n\u001b[?25hRequirement already satisfied: numpy>=1.17.3 in /anaconda/envs/jupyter_env/lib/python3.8/site-packages (from opencv-python) (1.23.5)\nInstalling collected packages: opencv-python\nSuccessfully installed opencv-python-4.7.0.72\nNote: you may need to restart the kernel to use updated packages.\n"
        }
      ],
      "execution_count": 7,
      "metadata": {
        "jupyter": {
          "source_hidden": false,
          "outputs_hidden": false
        },
        "nteract": {
          "transient": {
            "deleting": false
          }
        },
        "gather": {
          "logged": 1677469413124
        }
      }
    },
    {
      "cell_type": "code",
      "source": [
        "from PIL import ImageFile\n",
        "ImageFile.LOAD_TRUNCATED_IMAGES = True"
      ],
      "outputs": [],
      "execution_count": 9,
      "metadata": {
        "execution": {
          "iopub.status.busy": "2022-11-23T05:13:55.597072Z",
          "iopub.execute_input": "2022-11-23T05:13:55.597421Z",
          "iopub.status.idle": "2022-11-23T05:13:55.601667Z",
          "shell.execute_reply.started": "2022-11-23T05:13:55.597384Z",
          "shell.execute_reply": "2022-11-23T05:13:55.600857Z"
        },
        "trusted": true,
        "gather": {
          "logged": 1677469442166
        }
      }
    },
    {
      "cell_type": "code",
      "source": [
        "import ssl\n",
        "\n",
        "ssl._create_default_https_context = ssl._create_unverified_context"
      ],
      "outputs": [],
      "execution_count": 10,
      "metadata": {
        "execution": {
          "iopub.status.busy": "2022-11-23T05:13:55.603313Z",
          "iopub.execute_input": "2022-11-23T05:13:55.603581Z",
          "iopub.status.idle": "2022-11-23T05:13:55.615574Z",
          "shell.execute_reply.started": "2022-11-23T05:13:55.603549Z",
          "shell.execute_reply": "2022-11-23T05:13:55.614685Z"
        },
        "trusted": true,
        "gather": {
          "logged": 1677469445030
        }
      }
    },
    {
      "cell_type": "code",
      "source": [
        "train_dir = './DATASET/TRAIN'\n",
        "test_dir = './DATASET/TEST'"
      ],
      "outputs": [],
      "execution_count": 11,
      "metadata": {
        "execution": {
          "iopub.status.busy": "2022-11-23T05:13:55.616724Z",
          "iopub.execute_input": "2022-11-23T05:13:55.617066Z",
          "iopub.status.idle": "2022-11-23T05:13:55.628664Z",
          "shell.execute_reply.started": "2022-11-23T05:13:55.617029Z",
          "shell.execute_reply": "2022-11-23T05:13:55.627913Z"
        },
        "trusted": true,
        "gather": {
          "logged": 1677469448845
        }
      }
    },
    {
      "cell_type": "code",
      "source": [
        "train_datagen = ImageDataGenerator(width_shift_range = 0.1,\n",
        "                                  horizontal_flip = True,\n",
        "                                  rescale = 1./255,\n",
        "                                  validation_split = 0.2)\n",
        "test_datagen = ImageDataGenerator(rescale =1./255,\n",
        "                                 validation_split = 0.2)"
      ],
      "outputs": [],
      "execution_count": 12,
      "metadata": {
        "execution": {
          "iopub.status.busy": "2022-11-23T05:13:55.629688Z",
          "iopub.execute_input": "2022-11-23T05:13:55.630048Z",
          "iopub.status.idle": "2022-11-23T05:13:55.642822Z",
          "shell.execute_reply.started": "2022-11-23T05:13:55.630013Z",
          "shell.execute_reply": "2022-11-23T05:13:55.642149Z"
        },
        "trusted": true,
        "gather": {
          "logged": 1677469457161
        }
      }
    },
    {
      "cell_type": "code",
      "source": [
        "train_generator = train_datagen.flow_from_directory(directory = train_dir,\n",
        "                                                   target_size = (224,224),\n",
        "                                                   color_mode = 'rgb',\n",
        "                                                   class_mode = 'categorical',\n",
        "                                                    batch_size = 16,\n",
        "                                                   subset = 'training')\n",
        "validation_generator = test_datagen.flow_from_directory(directory = test_dir,\n",
        "                                                       target_size = (224,224),\n",
        "                                                       color_mode = 'rgb',\n",
        "                                                       class_mode = 'categorical',\n",
        "                                                       batch_size = 16,\n",
        "                                                       subset = 'validation')"
      ],
      "outputs": [
        {
          "output_type": "stream",
          "name": "stdout",
          "text": "Found 866 images belonging to 5 classes.\nFound 92 images belonging to 5 classes.\n"
        }
      ],
      "execution_count": 13,
      "metadata": {
        "execution": {
          "iopub.status.busy": "2022-11-23T05:13:55.643775Z",
          "iopub.execute_input": "2022-11-23T05:13:55.644141Z",
          "iopub.status.idle": "2022-11-23T05:13:55.977379Z",
          "shell.execute_reply.started": "2022-11-23T05:13:55.644110Z",
          "shell.execute_reply": "2022-11-23T05:13:55.976068Z"
        },
        "trusted": true,
        "gather": {
          "logged": 1677469461904
        }
      }
    },
    {
      "cell_type": "code",
      "source": [
        "model = tf.keras.Sequential()\n",
        "model.add(VGG19(include_top = False,weights = 'imagenet',input_shape= (224,224,3)))\n",
        "model.add(Flatten())\n",
        "model.add(Dense(5,activation = 'softmax'))"
      ],
      "outputs": [],
      "execution_count": 40,
      "metadata": {
        "execution": {
          "iopub.status.busy": "2022-11-23T05:36:52.184494Z",
          "iopub.execute_input": "2022-11-23T05:36:52.184961Z",
          "iopub.status.idle": "2022-11-23T05:37:12.640527Z",
          "shell.execute_reply.started": "2022-11-23T05:36:52.184928Z",
          "shell.execute_reply": "2022-11-23T05:37:12.638224Z"
        },
        "trusted": true,
        "gather": {
          "logged": 1677511932309
        }
      }
    },
    {
      "cell_type": "code",
      "source": [
        "import visualkeras\r\n",
        "visualkeras.layered_view(model)\r\n",
        "model.summary()"
      ],
      "outputs": [
        {
          "output_type": "stream",
          "name": "stdout",
          "text": "Model: \"sequential_11\"\n_________________________________________________________________\n Layer (type)                Output Shape              Param #   \n=================================================================\n vgg19 (Functional)          (None, 7, 7, 512)         20024384  \n                                                                 \n flatten_4 (Flatten)         (None, 25088)             0         \n                                                                 \n dense_5 (Dense)             (None, 5)                 125445    \n                                                                 \n=================================================================\nTotal params: 20,149,829\nTrainable params: 20,149,829\nNon-trainable params: 0\n_________________________________________________________________\n"
        }
      ],
      "execution_count": 41,
      "metadata": {
        "execution": {
          "iopub.status.busy": "2022-11-23T05:14:17.209310Z",
          "iopub.status.idle": "2022-11-23T05:14:17.209774Z"
        },
        "trusted": true,
        "gather": {
          "logged": 1677511939840
        }
      }
    },
    {
      "cell_type": "code",
      "source": [
        "optimizer = Adam(lr = 0.0001)\n",
        "model.compile(loss = \"categorical_crossentropy\",optimizer = optimizer,metrics = ['accuracy'])\n",
        "epochs = 10\n",
        "batch_size = 16"
      ],
      "outputs": [
        {
          "output_type": "stream",
          "name": "stderr",
          "text": "WARNING:absl:`lr` is deprecated, please use `learning_rate` instead, or use the legacy optimizer, e.g.,tf.keras.optimizers.legacy.Adam.\n"
        }
      ],
      "execution_count": 44,
      "metadata": {
        "execution": {
          "iopub.status.busy": "2022-11-23T05:14:17.210761Z",
          "iopub.status.idle": "2022-11-23T05:14:17.211235Z"
        },
        "trusted": true,
        "gather": {
          "logged": 1677589408583
        }
      }
    },
    {
      "cell_type": "code",
      "source": [
        "history = model.fit(train_generator, epochs = epochs,validation_data = validation_generator)"
      ],
      "outputs": [
        {
          "output_type": "stream",
          "name": "stdout",
          "text": "Epoch 1/10\n55/55 [==============================] - 724s 13s/step - loss: 1.6075 - accuracy: 0.2090 - val_loss: 1.8106 - val_accuracy: 0.2283\b\b\b\b\b\b\b\b\b\b\b\b\b\b\b\b\b\b\b\b\b\b\b\b\b\b\b\b\b\b\b\b\b\b\b\b\b\b\b\b\nEpoch 2/10\n 1/55 [..............................] - ETA: 12:56 - loss: 1.7454 - accuracy: 0.2500"
        }
      ],
      "execution_count": 45,
      "metadata": {
        "execution": {
          "iopub.status.busy": "2022-11-23T05:14:17.212061Z",
          "iopub.status.idle": "2022-11-23T05:14:17.212521Z"
        },
        "trusted": true,
        "gather": {
          "logged": 1677514834095
        }
      }
    },
    {
      "cell_type": "code",
      "source": [
        "fig , ax = plt.subplots(1,2)\n",
        "train_acc = history.history['accuracy']\n",
        "train_loss = history.history['loss']\n",
        "fig.set_size_inches(12,4)\n",
        "\n",
        "ax[0].plot(history.history['accuracy'])\n",
        "ax[0].plot(history.history['val_accuracy'])\n",
        "ax[0].set_title('Training Accuracy vs Validation Accuracy')\n",
        "ax[0].set_ylabel('Accuracy')\n",
        "ax[0].set_xlabel('Epoch')\n",
        "ax[0].legend(['Train', 'Validation'], loc='upper left')\n",
        "\n",
        "ax[1].plot(history.history['loss'])\n",
        "ax[1].plot(history.history['val_loss'])\n",
        "ax[1].set_title('Training Loss vs Validation Loss')\n",
        "ax[1].set_ylabel('Loss')\n",
        "ax[1].set_xlabel('Epoch')\n",
        "ax[1].legend(['Train', 'Validation'], loc='upper left')\n",
        "\n",
        "plt.show()"
      ],
      "outputs": [],
      "execution_count": null,
      "metadata": {
        "execution": {
          "iopub.status.busy": "2022-11-23T05:14:17.213498Z",
          "iopub.status.idle": "2022-11-23T05:14:17.213969Z"
        },
        "trusted": true,
        "gather": {
          "logged": 1669652949106
        }
      }
    },
    {
      "cell_type": "code",
      "source": [
        "train_loss, train_acc = model.evaluate(train_generator)\n",
        "test_loss, test_acc   = model.evaluate(validation_generator)\n",
        "print(\"final train accuracy = {:.2f} , validation accuracy = {:.2f}\".format(train_acc*100, test_acc*100))"
      ],
      "outputs": [],
      "execution_count": null,
      "metadata": {
        "execution": {
          "iopub.status.busy": "2022-11-23T05:14:17.215000Z",
          "iopub.status.idle": "2022-11-23T05:14:17.215522Z"
        },
        "trusted": true,
        "gather": {
          "logged": 1669652949128
        }
      }
    },
    {
      "cell_type": "code",
      "source": [
        "from sklearn.metrics import classification_report, confusion_matrix\r\n",
        "Y_pred = model.predict_generator(validation_generator, batch_size+1)\r\n",
        "y_pred = np.argmax(Y_pred, axis=1)\r\n",
        "print('Confusion Matrix')\r\n",
        "print(confusion_matrix(validation_generator.classes, y_pred))\r\n",
        "target_names = ['downdog', 'goddess', 'Plank','tree','warrior2']\r\n",
        "print(classification_report(validation_generator.classes, y_pred, target_names=target_names))"
      ],
      "outputs": [],
      "execution_count": null,
      "metadata": {
        "jupyter": {
          "source_hidden": false,
          "outputs_hidden": false
        },
        "nteract": {
          "transient": {
            "deleting": false
          }
        },
        "gather": {
          "logged": 1669652949145
        }
      }
    },
    {
      "cell_type": "code",
      "source": [
        "predictions = np.argmax(model.predict(validation_generator),axis=1)\r\n",
        "labels = validation_generator.classes\r\n",
        "predictions , labels"
      ],
      "outputs": [],
      "execution_count": null,
      "metadata": {
        "jupyter": {
          "source_hidden": false,
          "outputs_hidden": false
        },
        "nteract": {
          "transient": {
            "deleting": false
          }
        },
        "gather": {
          "logged": 1669652949162
        }
      }
    },
    {
      "cell_type": "code",
      "source": [
        "import matplotlib.pyplot as plt \r\n",
        "from sklearn.preprocessing import LabelBinarizer\r\n",
        "from sklearn.metrics import roc_curve, auc, roc_auc_score\r\n",
        "\r\n",
        "\r\n",
        "target= ['airplane', 'automobile', 'bird', 'cat', 'deer',\r\n",
        "          'dog', 'frog', 'horse', 'ship', 'truck']\r\n",
        "\r\n",
        "# set plot figure size\r\n",
        "fig, c_ax = plt.subplots(1,1, figsize = (12, 8))\r\n",
        "\r\n",
        "# function for scoring roc auc score for multi-class\r\n",
        "def multiclass_roc_auc_score(y_test, y_pred, average=\"macro\"):\r\n",
        "    lb = LabelBinarizer()\r\n",
        "    lb.fit(y_test)\r\n",
        "    y_test = lb.transform(y_test)\r\n",
        "    y_pred = lb.transform(y_pred)\r\n",
        "\r\n",
        "    for (idx, c_label) in enumerate(target):\r\n",
        "        fpr, tpr, thresholds = roc_curve(y_test[:,idx].astype(int), y_pred[:,idx])\r\n",
        "        c_ax.plot(fpr, tpr, label = '%s (AUC:%0.2f)'  % (c_label, auc(fpr, tpr)))\r\n",
        "    c_ax.plot(fpr, fpr, 'b-', label = 'Random Guessing')\r\n",
        "    return roc_auc_score(y_test, y_pred, average=average)\r\n",
        "\r\n",
        "\r\n",
        "print('ROC AUC score:', multiclass_roc_auc_score(ytrain, ypred))\r\n",
        "\r\n",
        "c_ax.legend()\r\n",
        "c_ax.set_xlabel('False Positive Rate')\r\n",
        "c_ax.set_ylabel('True Positive Rate')\r\n",
        "plt.show()"
      ],
      "outputs": [],
      "execution_count": null,
      "metadata": {
        "jupyter": {
          "source_hidden": false,
          "outputs_hidden": false
        },
        "nteract": {
          "transient": {
            "deleting": false
          }
        },
        "gather": {
          "logged": 1669652949176
        }
      }
    },
    {
      "cell_type": "code",
      "source": [
        "classes = []\r\n",
        "for i in os.listdir(test_dir):\r\n",
        "    classes+=[i]\r\n",
        "\r\n",
        "classes"
      ],
      "outputs": [],
      "execution_count": null,
      "metadata": {
        "jupyter": {
          "source_hidden": false,
          "outputs_hidden": false
        },
        "nteract": {
          "transient": {
            "deleting": false
          }
        },
        "gather": {
          "logged": 1669652949200
        }
      }
    },
    {
      "cell_type": "code",
      "source": [
        "from tensorflow.keras import backend as K\r\n",
        "from sklearn.metrics import accuracy_score, precision_score, recall_score, f1_score, cohen_kappa_score, roc_auc_score, confusion_matrix\r\n",
        "from sklearn.metrics import classification_report\r\n",
        "def fbeta(y_true, y_pred, threshold_shift=0):\r\n",
        "    beta_squared = 4\r\n",
        "\r\n",
        "    y_pred = K.clip(y_pred, 0, 1)\r\n",
        " \r\n",
        "    y_pred_bin = K.round(y_pred + threshold_shift)\r\n",
        " \r\n",
        "    tp = K.sum(K.round(y_true * y_pred_bin)) + K.epsilon()\r\n",
        "    fp = K.sum(K.round(K.clip(y_pred_bin - y_true, 0, 1)))\r\n",
        "    fn = K.sum(K.round(K.clip(y_true - y_pred, 0, 1)))\r\n",
        " \r\n",
        "    precision = tp / (tp + fp)\r\n",
        "    recall = tp / (tp + fn)\r\n",
        " \r\n",
        "    return (beta_squared + 1) * (precision * recall) / (beta_squared * precision + recall + K.epsilon())"
      ],
      "outputs": [],
      "execution_count": null,
      "metadata": {
        "jupyter": {
          "source_hidden": false,
          "outputs_hidden": false
        },
        "nteract": {
          "transient": {
            "deleting": false
          }
        },
        "gather": {
          "logged": 1669652949215
        }
      }
    },
    {
      "cell_type": "code",
      "source": [
        "def confusion_matrix_plot(matrix):\r\n",
        "    plt.figure(figsize=(12,10))\r\n",
        "    cmap = \"YlGnBu\"\r\n",
        "    ax= plt.subplot()\r\n",
        "    sns.heatmap(matrix, annot=True, fmt='g', ax=ax, cmap=cmap);  #annot=True to annotate cells, ftm='g' to disable scientific notation\r\n",
        "    plt.savefig('./img1.png')\r\n",
        "    # labels, title and ticks\r\n",
        "    ax.set_xlabel('Predicted labels');\r\n",
        "    ax.set_ylabel('True labels'); \r\n",
        "    ax.set_title('Confusion Matrix'); \r\n",
        "    ax.xaxis.set_ticklabels(classes); \r\n",
        "    ax.yaxis.set_ticklabels(classes[::-1]);\r\n",
        "    plt.show()"
      ],
      "outputs": [],
      "execution_count": null,
      "metadata": {
        "jupyter": {
          "source_hidden": false,
          "outputs_hidden": false
        },
        "nteract": {
          "transient": {
            "deleting": false
          }
        },
        "gather": {
          "logged": 1669652949242
        }
      }
    },
    {
      "cell_type": "code",
      "source": [
        "def cal_score(model, key):\r\n",
        "    matrix = confusion_matrix(predictions, labels)\r\n",
        "    print(matrix)\r\n",
        "    print('\\n')\r\n",
        "\r\n",
        "    f1 = f1_score(predictions, labels, average='weighted')\r\n",
        "    print(f'F1 Score: {f1}')\r\n",
        "    print('\\n')\r\n",
        "    \r\n",
        "    print(classification_report(predictions, labels, target_names=classes))\r\n",
        "    \r\n",
        "    if key==1:\r\n",
        "        confusion_matrix_plot(matrix)"
      ],
      "outputs": [],
      "execution_count": null,
      "metadata": {
        "jupyter": {
          "source_hidden": false,
          "outputs_hidden": false
        },
        "nteract": {
          "transient": {
            "deleting": false
          }
        },
        "gather": {
          "logged": 1669652949262
        }
      }
    },
    {
      "cell_type": "code",
      "source": [
        "cal_score(model, 1)"
      ],
      "outputs": [],
      "execution_count": null,
      "metadata": {
        "jupyter": {
          "source_hidden": false,
          "outputs_hidden": false
        },
        "nteract": {
          "transient": {
            "deleting": false
          }
        },
        "gather": {
          "logged": 1669652949284
        }
      }
    },
    {
      "cell_type": "code",
      "source": [
        "model.save('YogaNet_Model_2_VGG19.h5')"
      ],
      "outputs": [],
      "execution_count": null,
      "metadata": {
        "execution": {
          "iopub.status.busy": "2022-11-23T05:14:17.216375Z",
          "iopub.status.idle": "2022-11-23T05:14:17.217172Z"
        },
        "trusted": true,
        "gather": {
          "logged": 1669652949300
        }
      }
    },
    {
      "cell_type": "code",
      "source": [
        "from tensorflow.keras.models import load_model\n",
        "from tensorflow.keras.applications.vgg16 import preprocess_input\n",
        "model = load_model('YogaNet_Model_2_VGG19.h5')\n",
        "img = image.load_img('./DATASET/TEST/goddess/00000000.jpg', target_size=(224, 224))\n",
        "x = image.img_to_array(img)\n",
        "x = np.expand_dims(x, axis=0)\n",
        "img_data = preprocess_input(x)\n",
        "classes = model.predict(img_data)\n",
        "print(classes) "
      ],
      "outputs": [],
      "execution_count": null,
      "metadata": {
        "execution": {
          "iopub.status.busy": "2022-11-23T05:14:17.218004Z",
          "iopub.status.idle": "2022-11-23T05:14:17.218472Z"
        },
        "trusted": true,
        "gather": {
          "logged": 1669652949315
        }
      }
    },
    {
      "cell_type": "code",
      "source": [
        "tf.saved_model.save(model, \"saved_model_keras_dir\")"
      ],
      "outputs": [],
      "execution_count": null,
      "metadata": {
        "gather": {
          "logged": 1669652949330
        }
      }
    },
    {
      "cell_type": "code",
      "source": [
        "converter = tf.lite.TFLiteConverter.from_keras_model(model)\r\n",
        "tflite_model = converter.convert()\r\n",
        "\r\n",
        "# Save the model.\r\n",
        "with open('model.tflite', 'wb') as f:\r\n",
        "  f.write(tflite_model)"
      ],
      "outputs": [],
      "execution_count": null,
      "metadata": {
        "jupyter": {
          "source_hidden": false,
          "outputs_hidden": false
        },
        "nteract": {
          "transient": {
            "deleting": false
          }
        },
        "gather": {
          "logged": 1669652949358
        }
      }
    }
  ],
  "metadata": {
    "kernelspec": {
      "name": "python38-azureml",
      "language": "python",
      "display_name": "Python 3.8 - AzureML"
    },
    "language_info": {
      "name": "python",
      "version": "3.8.10",
      "mimetype": "text/x-python",
      "codemirror_mode": {
        "name": "ipython",
        "version": 3
      },
      "pygments_lexer": "ipython3",
      "nbconvert_exporter": "python",
      "file_extension": ".py"
    },
    "kernel_info": {
      "name": "python38-azureml"
    },
    "nteract": {
      "version": "nteract-front-end@1.0.0"
    },
    "microsoft": {
      "host": {
        "AzureML": {
          "notebookHasBeenCompleted": true
        }
      },
      "ms_spell_check": {
        "ms_spell_check_language": "en"
      }
    }
  },
  "nbformat": 4,
  "nbformat_minor": 4
}