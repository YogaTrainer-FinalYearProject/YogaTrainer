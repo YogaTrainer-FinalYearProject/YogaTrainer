{
  "cells": [
    {
      "cell_type": "code",
      "source": [
        "import numpy as np\n",
        "import pandas as pd\n",
        "import matplotlib.pyplot as plt\n",
        "import seaborn as sns\n",
        "from sklearn.metrics import confusion_matrix\n",
        "import os\n",
        "from os import walk\n",
        "for (dirpath, dirnames, filenames) in walk(\"./DATASET\"):\n",
        "    print(\"Directory path: \", dirpath)\n",
        "import tensorflow as tf\n",
        "import tensorflow_addons as tfa\n",
        "import numpy as np\n",
        "from tensorflow import keras\n",
        "from tensorflow.keras import layers\n",
        "# pip install tensorflow_addons==0.10.0"
      ],
      "outputs": [
        {
          "output_type": "stream",
          "name": "stdout",
          "text": "Directory path:  ./DATASET\nDirectory path:  ./DATASET/TEST\nDirectory path:  ./DATASET/TEST/downdog\nDirectory path:  ./DATASET/TEST/goddess\nDirectory path:  ./DATASET/TEST/plank\nDirectory path:  ./DATASET/TEST/tree\nDirectory path:  ./DATASET/TEST/warrior2\nDirectory path:  ./DATASET/TRAIN\nDirectory path:  ./DATASET/TRAIN/downdog\nDirectory path:  ./DATASET/TRAIN/goddess\nDirectory path:  ./DATASET/TRAIN/plank\nDirectory path:  ./DATASET/TRAIN/tree\nDirectory path:  ./DATASET/TRAIN/warrior2\n"
        }
      ],
      "execution_count": 1,
      "metadata": {
        "_cell_guid": "b1076dfc-b9ad-4769-8c92-a6c4dae69d19",
        "_uuid": "8f2839f25d086af736a60e9eeb907d3b93b6e0e5",
        "execution": {
          "iopub.execute_input": "2023-03-21T17:36:28.957113Z",
          "iopub.status.busy": "2023-03-21T17:36:28.955778Z",
          "iopub.status.idle": "2023-03-21T17:36:36.501385Z",
          "shell.execute_reply": "2023-03-21T17:36:36.500228Z"
        },
        "papermill": {
          "duration": 7.557253,
          "end_time": "2023-03-21T17:36:36.504132",
          "exception": false,
          "start_time": "2023-03-21T17:36:28.946879",
          "status": "completed"
        },
        "tags": [],
        "gather": {
          "logged": 1679934593501
        }
      },
      "id": "a4bf26a8"
    },
    {
      "cell_type": "code",
      "source": [
        "train_path = \"./DATASET/TRAIN\"\n",
        "test_path = \"./DATASET/TEST\""
      ],
      "outputs": [],
      "execution_count": 2,
      "metadata": {
        "execution": {
          "iopub.execute_input": "2023-03-21T17:36:36.515426Z",
          "iopub.status.busy": "2023-03-21T17:36:36.514717Z",
          "iopub.status.idle": "2023-03-21T17:36:36.520632Z",
          "shell.execute_reply": "2023-03-21T17:36:36.519665Z"
        },
        "papermill": {
          "duration": 0.013908,
          "end_time": "2023-03-21T17:36:36.522848",
          "exception": false,
          "start_time": "2023-03-21T17:36:36.508940",
          "status": "completed"
        },
        "tags": [],
        "gather": {
          "logged": 1679934593690
        }
      },
      "id": "3902cf7b"
    },
    {
      "cell_type": "code",
      "source": [
        "from tensorflow.keras.preprocessing.image import ImageDataGenerator\n",
        "train_datagen = ImageDataGenerator(rescale=1 / 255.0,\n",
        "                                   rotation_range = 10, \n",
        "                                   zoom_range = 0.30, \n",
        "                                   shear_range = 0.30,\n",
        "                                   fill_mode = \"nearest\", \n",
        "                                   validation_split=0.20\n",
        "                                  )\n",
        "test_datagen = ImageDataGenerator(rescale=1 / 255.0)"
      ],
      "outputs": [],
      "execution_count": 3,
      "metadata": {
        "execution": {
          "iopub.execute_input": "2023-03-21T17:36:36.533382Z",
          "iopub.status.busy": "2023-03-21T17:36:36.532747Z",
          "iopub.status.idle": "2023-03-21T17:36:36.539670Z",
          "shell.execute_reply": "2023-03-21T17:36:36.538756Z"
        },
        "papermill": {
          "duration": 0.014347,
          "end_time": "2023-03-21T17:36:36.541635",
          "exception": false,
          "start_time": "2023-03-21T17:36:36.527288",
          "status": "completed"
        },
        "tags": [],
        "gather": {
          "logged": 1679934593852
        }
      },
      "id": "41a33f92"
    },
    {
      "cell_type": "code",
      "source": [
        "\n",
        "from PIL import ImageFile\n",
        "ImageFile.LOAD_TRUNCATED_IMAGES = True\n",
        "\n",
        "batch_size = 8\n",
        "train_generator = train_datagen.flow_from_directory(\n",
        "        directory=train_path,  # this is the target directory\n",
        "        color_mode=\"rgb\",\n",
        "        target_size=(224, 224),  # all images will be resized to 150x150\n",
        "        batch_size=batch_size,\n",
        "        class_mode='sparse',  # since we use binary_crossentropy loss, we need binary labels\n",
        "        subset='training',\n",
        "        shuffle=True,\n",
        "        seed=42)\n",
        "\n",
        "# this is a similar generator, for validation data\n",
        "validation_generator = train_datagen.flow_from_directory(\n",
        "        directory=train_path,\n",
        "        color_mode=\"rgb\",\n",
        "        target_size=(224, 224),\n",
        "        batch_size=batch_size,\n",
        "        class_mode='sparse',\n",
        "        subset='validation',\n",
        "        shuffle=True,\n",
        "        seed=42)\n",
        "\n",
        "test_generator = test_datagen.flow_from_directory(\n",
        "    directory=test_path,\n",
        "    target_size=(224, 224),\n",
        "    color_mode=\"rgb\",\n",
        "    batch_size=batch_size,\n",
        "    class_mode='sparse',\n",
        "    shuffle=False,\n",
        "    seed=42)"
      ],
      "outputs": [
        {
          "output_type": "stream",
          "name": "stdout",
          "text": "Found 866 images belonging to 5 classes.\nFound 215 images belonging to 5 classes.\nFound 470 images belonging to 5 classes.\n"
        }
      ],
      "execution_count": 4,
      "metadata": {
        "execution": {
          "iopub.execute_input": "2023-03-21T17:36:36.553262Z",
          "iopub.status.busy": "2023-03-21T17:36:36.551767Z",
          "iopub.status.idle": "2023-03-21T17:36:36.870028Z",
          "shell.execute_reply": "2023-03-21T17:36:36.868898Z"
        },
        "papermill": {
          "duration": 0.326883,
          "end_time": "2023-03-21T17:36:36.873155",
          "exception": false,
          "start_time": "2023-03-21T17:36:36.546272",
          "status": "completed"
        },
        "tags": [],
        "gather": {
          "logged": 1679934594030
        }
      },
      "id": "93776dc0"
    },
    {
      "cell_type": "markdown",
      "source": [
        "#### Training an encoder to learn to produce vector representations of input images such that representations of images in the same class will be more similar compared to representations of images in different classes."
      ],
      "metadata": {
        "papermill": {
          "duration": 0.004384,
          "end_time": "2023-03-21T17:36:36.882548",
          "exception": false,
          "start_time": "2023-03-21T17:36:36.878164",
          "status": "completed"
        },
        "tags": []
      },
      "id": "cb6e84ce"
    },
    {
      "cell_type": "markdown",
      "source": [
        "### Build the encoder model\n",
        "#### The encoder model takes the image as input and turns it into a 2048-dimensional feature vector."
      ],
      "metadata": {
        "papermill": {
          "duration": 0.004262,
          "end_time": "2023-03-21T17:36:36.891352",
          "exception": false,
          "start_time": "2023-03-21T17:36:36.887090",
          "status": "completed"
        },
        "tags": []
      },
      "id": "bb77a113"
    },
    {
      "cell_type": "code",
      "source": [
        "input_shape = (224,224,3)\n",
        "projection_units = 128\n",
        "learning_rate = 0.0001\n",
        "temperature = 0.05"
      ],
      "outputs": [],
      "execution_count": 5,
      "metadata": {
        "execution": {
          "iopub.execute_input": "2023-03-21T17:36:36.902364Z",
          "iopub.status.busy": "2023-03-21T17:36:36.901643Z",
          "iopub.status.idle": "2023-03-21T17:36:36.906730Z",
          "shell.execute_reply": "2023-03-21T17:36:36.905665Z"
        },
        "papermill": {
          "duration": 0.013105,
          "end_time": "2023-03-21T17:36:36.908935",
          "exception": false,
          "start_time": "2023-03-21T17:36:36.895830",
          "status": "completed"
        },
        "tags": [],
        "gather": {
          "logged": 1679934594219
        }
      },
      "id": "82cf1b12"
    },
    {
      "cell_type": "code",
      "source": [
        "def create_encoder():\n",
        "    resnet = keras.applications.ResNet50V2(\n",
        "        include_top=False, weights=\"imagenet\", input_shape=input_shape, pooling=\"avg\"\n",
        "    )\n",
        "\n",
        "    inputs = keras.Input(shape=input_shape)\n",
        "    outputs = resnet(inputs)\n",
        "    model = keras.Model(inputs=inputs, outputs=outputs, name=\"image-encoder\")\n",
        "    return model\n"
      ],
      "outputs": [],
      "execution_count": 6,
      "metadata": {
        "execution": {
          "iopub.execute_input": "2023-03-21T17:36:36.919811Z",
          "iopub.status.busy": "2023-03-21T17:36:36.919056Z",
          "iopub.status.idle": "2023-03-21T17:36:36.924836Z",
          "shell.execute_reply": "2023-03-21T17:36:36.923780Z"
        },
        "papermill": {
          "duration": 0.01357,
          "end_time": "2023-03-21T17:36:36.927047",
          "exception": false,
          "start_time": "2023-03-21T17:36:36.913477",
          "status": "completed"
        },
        "tags": [],
        "gather": {
          "logged": 1679934594403
        }
      },
      "id": "aabce20c"
    },
    {
      "cell_type": "markdown",
      "source": [
        "### Build the classification model\n",
        "#### The classification model adds a fully-connected layer on top of the encoder, plus a softmax layer with the target classes"
      ],
      "metadata": {
        "papermill": {
          "duration": 0.0043,
          "end_time": "2023-03-21T17:36:36.935921",
          "exception": false,
          "start_time": "2023-03-21T17:36:36.931621",
          "status": "completed"
        },
        "tags": []
      },
      "id": "2d5c855c"
    },
    {
      "cell_type": "code",
      "source": [
        "from tensorflow.keras.optimizers import Adam\n",
        "num_classes = train_generator.num_classes\n",
        "def create_classifier(encoder, trainable=True):\n",
        "\n",
        "    for layer in encoder.layers:\n",
        "        layer.trainable = trainable\n",
        "\n",
        "    inputs = keras.Input(shape=input_shape)\n",
        "    features = encoder(inputs)\n",
        "    outputs = layers.Dense(num_classes, activation=\"softmax\")(features)\n",
        "\n",
        "    model = keras.Model(inputs=inputs, outputs=outputs, name=\"image-classifier\")\n",
        "    epochs = 10\n",
        "    opt = Adam(learning_rate=learning_rate, decay=learning_rate / (epochs * 0.5))\n",
        "    model.compile(loss='sparse_categorical_crossentropy', optimizer=opt, metrics=['accuracy'])\n",
        "    return model"
      ],
      "outputs": [],
      "execution_count": 7,
      "metadata": {
        "execution": {
          "iopub.execute_input": "2023-03-21T17:36:36.946955Z",
          "iopub.status.busy": "2023-03-21T17:36:36.946037Z",
          "iopub.status.idle": "2023-03-21T17:36:36.953904Z",
          "shell.execute_reply": "2023-03-21T17:36:36.952943Z"
        },
        "papermill": {
          "duration": 0.01571,
          "end_time": "2023-03-21T17:36:36.956154",
          "exception": false,
          "start_time": "2023-03-21T17:36:36.940444",
          "status": "completed"
        },
        "tags": [],
        "gather": {
          "logged": 1679934594575
        }
      },
      "id": "bc827730"
    },
    {
      "cell_type": "markdown",
      "source": [
        "### Supervised contrastive learning loss function"
      ],
      "metadata": {
        "papermill": {
          "duration": 0.004455,
          "end_time": "2023-03-21T17:36:36.965221",
          "exception": false,
          "start_time": "2023-03-21T17:36:36.960766",
          "status": "completed"
        },
        "tags": []
      },
      "id": "0bd57258"
    },
    {
      "cell_type": "code",
      "source": [
        "class SupervisedContrastiveLoss(keras.losses.Loss):\n",
        "    def __init__(self, temperature=1, name=None):\n",
        "        super().__init__(name=name)\n",
        "        self.temperature = temperature\n",
        "\n",
        "    def __call__(self, labels, feature_vectors, sample_weight=None):\n",
        "        # Normalize feature vectors\n",
        "        feature_vectors_normalized = tf.math.l2_normalize(feature_vectors, axis=1)\n",
        "        # Compute logits\n",
        "        logits = tf.divide(\n",
        "            tf.matmul(\n",
        "                feature_vectors_normalized, tf.transpose(feature_vectors_normalized)\n",
        "            ),\n",
        "            self.temperature,\n",
        "        )\n",
        "        return tfa.losses.npairs_loss(tf.squeeze(labels), logits)\n",
        "\n",
        "\n",
        "def add_projection_head(encoder):\n",
        "    inputs = keras.Input(shape=input_shape)\n",
        "    features = encoder(inputs)\n",
        "    outputs = layers.Dense(projection_units, activation=\"relu\")(features)\n",
        "    model = keras.Model(\n",
        "        inputs=inputs, outputs=outputs, name=\"image-encoder_with_projection-head\"\n",
        "    )\n",
        "    return model"
      ],
      "outputs": [],
      "execution_count": 8,
      "metadata": {
        "execution": {
          "iopub.execute_input": "2023-03-21T17:36:36.976398Z",
          "iopub.status.busy": "2023-03-21T17:36:36.975426Z",
          "iopub.status.idle": "2023-03-21T17:36:36.983824Z",
          "shell.execute_reply": "2023-03-21T17:36:36.982852Z"
        },
        "papermill": {
          "duration": 0.01611,
          "end_time": "2023-03-21T17:36:36.985902",
          "exception": false,
          "start_time": "2023-03-21T17:36:36.969792",
          "status": "completed"
        },
        "tags": [],
        "gather": {
          "logged": 1679934594755
        }
      },
      "id": "07d5251d"
    },
    {
      "cell_type": "markdown",
      "source": [
        "#### Train only the encoder model"
      ],
      "metadata": {
        "papermill": {
          "duration": 0.004291,
          "end_time": "2023-03-21T17:36:36.994712",
          "exception": false,
          "start_time": "2023-03-21T17:36:36.990421",
          "status": "completed"
        },
        "tags": []
      },
      "id": "3b462ac6"
    },
    {
      "cell_type": "code",
      "source": [
        "encoder = create_encoder()\n",
        "\n",
        "encoder_with_projection_head = add_projection_head(encoder)\n",
        "encoder_with_projection_head.compile(\n",
        "    optimizer=keras.optimizers.Adam(learning_rate),\n",
        "    loss=SupervisedContrastiveLoss(temperature),\n",
        ")\n",
        "\n",
        "encoder_with_projection_head.summary()\n",
        "\n",
        "history = encoder_with_projection_head.fit(train_generator,\n",
        "                    validation_data = validation_generator,\n",
        "                    steps_per_epoch = train_generator.n//train_generator.batch_size,\n",
        "                    validation_steps = validation_generator.n//validation_generator.batch_size,\n",
        "                    epochs=10)"
      ],
      "outputs": [
        {
          "output_type": "stream",
          "name": "stderr",
          "text": "2023-03-27 16:29:53.842612: I tensorflow/stream_executor/platform/default/dso_loader.cc:44] Successfully opened dynamic library libcuda.so.1\n2023-03-27 16:29:54.029120: E tensorflow/stream_executor/cuda/cuda_driver.cc:313] failed call to cuInit: CUDA_ERROR_NO_DEVICE: no CUDA-capable device is detected\n2023-03-27 16:29:54.029182: I tensorflow/stream_executor/cuda/cuda_diagnostics.cc:156] kernel driver does not appear to be running on this host (comp): /proc/driver/nvidia/version does not exist\n2023-03-27 16:29:54.031189: I tensorflow/core/platform/cpu_feature_guard.cc:143] Your CPU supports instructions that this TensorFlow binary was not compiled to use: AVX2 AVX512F FMA\n2023-03-27 16:29:54.038512: I tensorflow/core/platform/profile_utils/cpu_utils.cc:102] CPU Frequency: 2593905000 Hz\n2023-03-27 16:29:54.039301: I tensorflow/compiler/xla/service/service.cc:168] XLA service 0x7f8ff0001750 initialized for platform Host (this does not guarantee that XLA will be used). Devices:\n2023-03-27 16:29:54.039321: I tensorflow/compiler/xla/service/service.cc:176]   StreamExecutor device (0): Host, Default Version\n/anaconda/envs/azureml_py38/lib/python3.8/site-packages/PIL/Image.py:959: UserWarning: Palette images with Transparency expressed in bytes should be converted to RGBA images\n  warnings.warn(\n"
        },
        {
          "output_type": "stream",
          "name": "stdout",
          "text": "Model: \"image-encoder_with_projection-head\"\n_________________________________________________________________\nLayer (type)                 Output Shape              Param #   \n=================================================================\ninput_3 (InputLayer)         [(None, 224, 224, 3)]     0         \n_________________________________________________________________\nimage-encoder (Model)        (None, 2048)              23564800  \n_________________________________________________________________\ndense (Dense)                (None, 128)               262272    \n=================================================================\nTotal params: 23,827,072\nTrainable params: 23,781,632\nNon-trainable params: 45,440\n_________________________________________________________________\nEpoch 1/10\n108/108 [==============================] - 142s 1s/step - loss: 1.8917 - val_loss: 1.3579\b\b\b\b\b\b\b\b\b\b\b\b\b\b\b\b\b\b\b\b\b\b\b\b\b\b\b\b\b\b\b\b\b\b\b\b\b\b\b\b\b\b\b\b\b\nEpoch 2/10\n108/108 [==============================] - 139s 1s/step - loss: 1.2909 - val_loss: 1.1938\b\b\b\b\b\b\b\b\b\b\b\b\b\b\b\b\b\b\b\b\b\b\b\b\b\b\b\b\b\b\b\b\b\b\b\b\b\b\b\b\b\b\b\b\b\nEpoch 3/10\n108/108 [==============================] - 139s 1s/step - loss: 1.2082 - val_loss: 1.1222\b\b\b\b\b\b\b\b\b\b\b\b\b\b\b\b\b\b\b\b\b\b\b\b\b\b\b\b\b\b\b\b\b\b\b\b\b\b\b\b\b\b\b\b\b\nEpoch 4/10\n108/108 [==============================] - 142s 1s/step - loss: 1.0938 - val_loss: 1.0932\b\b\b\b\b\b\b\b\b\b\b\b\b\b\b\b\b\b\b\b\b\b\b\b\b\b\b\b\b\b\b\b\b\b\b\b\b\b\b\b\b\b\b\b\b\nEpoch 5/10\n108/108 [==============================] - 141s 1s/step - loss: 0.9872 - val_loss: 1.0629\b\b\b\b\b\b\b\b\b\b\b\b\b\b\b\b\b\b\b\b\b\b\b\b\b\b\b\b\b\b\b\b\b\b\b\b\b\b\b\b\b\b\b\b\b\nEpoch 6/10\n108/108 [==============================] - 140s 1s/step - loss: 0.9364 - val_loss: 1.0492\b\b\b\b\b\b\b\b\b\b\b\b\b\b\b\b\b\b\b\b\b\b\b\b\b\b\b\b\b\b\b\b\b\b\b\b\b\b\b\b\b\b\b\b\b\nEpoch 7/10\n108/108 [==============================] - 141s 1s/step - loss: 0.8821 - val_loss: 1.0556\b\b\b\b\b\b\b\b\b\b\b\b\b\b\b\b\b\b\b\b\b\b\b\b\b\b\b\b\b\b\b\b\b\b\b\b\b\b\b\b\b\b\b\b\b\nEpoch 8/10\n108/108 [==============================] - 146s 1s/step - loss: 0.8764 - val_loss: 1.0503\b\b\b\b\b\b\b\b\b\b\b\b\b\b\b\b\b\b\b\b\b\b\b\b\b\b\b\b\b\b\b\b\b\b\b\b\b\b\b\b\b\b\b\b\b\nEpoch 9/10\n108/108 [==============================] - 140s 1s/step - loss: 0.8776 - val_loss: 1.1196\b\b\b\b\b\b\b\b\b\b\b\b\b\b\b\b\b\b\b\b\b\b\b\b\b\b\b\b\b\b\b\b\b\b\b\b\b\b\b\b\b\b\b\b\b\nEpoch 10/10\n108/108 [==============================] - 140s 1s/step - loss: 0.8885 - val_loss: 1.0063\b\b\b\b\b\b\b\b\b\b\b\b\b\b\b\b\b\b\b\b\b\b\b\b\b\b\b\b\b\b\b\b\b\b\b\b\b\b\b\b\b\b\b\b\b\n"
        }
      ],
      "execution_count": 9,
      "metadata": {
        "execution": {
          "iopub.execute_input": "2023-03-21T17:36:37.005534Z",
          "iopub.status.busy": "2023-03-21T17:36:37.005193Z",
          "iopub.status.idle": "2023-03-21T17:43:47.762188Z",
          "shell.execute_reply": "2023-03-21T17:43:47.760822Z"
        },
        "papermill": {
          "duration": 430.765582,
          "end_time": "2023-03-21T17:43:47.764797",
          "exception": false,
          "start_time": "2023-03-21T17:36:36.999215",
          "status": "completed"
        },
        "tags": [],
        "gather": {
          "logged": 1679936035312
        }
      },
      "id": "828e1a3e"
    },
    {
      "cell_type": "markdown",
      "source": [
        "Installation needed\r\n",
        "\r\n",
        "!pip install h5py==2.10.0"
      ],
      "metadata": {
        "nteract": {
          "transient": {
            "deleting": false
          }
        }
      },
      "id": "008f29a1-54fa-4d63-a6b4-dcb658a6dbb2"
    },
    {
      "cell_type": "code",
      "source": [
        "classifier = create_classifier(encoder, trainable=False)\n",
        "history = classifier.fit(train_generator,\n",
        "                    validation_data = validation_generator,\n",
        "                    steps_per_epoch = train_generator.n//train_generator.batch_size,\n",
        "                    validation_steps = validation_generator.n//validation_generator.batch_size,\n",
        "                    epochs=7)"
      ],
      "outputs": [
        {
          "output_type": "stream",
          "name": "stdout",
          "text": "Epoch 1/7\n108/108 [==============================] - 68s 626ms/step - loss: 0.8374 - accuracy: 0.7867 - val_loss: 0.4864 - val_accuracy: 0.9135\b\b\b\b\b\b\b\b\b\b\b\b\b\b\b\b\b\b\b\b\b\b\b\b\b\b\b\b\b\b\b\b\b\b\b\b\b\nEpoch 2/7\n108/108 [==============================] - 67s 620ms/step - loss: 0.2499 - accuracy: 0.9848 - val_loss: 0.2926 - val_accuracy: 0.9471\b\b\b\b\b\b\b\b\b\b\b\b\b\b\b\b\b\b\b\b\b\b\b\b\b\b\b\b\b\b\b\b\b\b\b\b\b\nEpoch 3/7\n108/108 [==============================] - 67s 620ms/step - loss: 0.1400 - accuracy: 0.9895 - val_loss: 0.2331 - val_accuracy: 0.9615\b\b\b\b\b\b\b\b\b\b\b\b\b\b\b\b\b\b\b\b\b\b\b\b\b\b\b\b\b\b\b\b\b\b\b\b\b\nEpoch 4/7\n108/108 [==============================] - 68s 627ms/step - loss: 0.0960 - accuracy: 0.9907 - val_loss: 0.2101 - val_accuracy: 0.9375\b\b\b\b\b\b\b\b\b\b\b\b\b\b\b\b\b\b\b\b\b\b\b\b\b\b\b\b\b\b\b\b\b\b\b\b\b\nEpoch 5/7\n108/108 [==============================] - 68s 633ms/step - loss: 0.0674 - accuracy: 0.9942 - val_loss: 0.1488 - val_accuracy: 0.9663\b\b\b\b\b\b\b\b\b\b\b\b\b\b\b\b\b\b\b\b\b\b\b\b\b\b\b\b\b\b\b\b\b\b\b\b\b\nEpoch 6/7\n108/108 [==============================] - 68s 628ms/step - loss: 0.0565 - accuracy: 0.9965 - val_loss: 0.1999 - val_accuracy: 0.9471\b\b\b\b\b\b\b\b\b\b\b\b\b\b\b\b\b\b\b\b\b\b\b\b\b\b\b\b\b\b\b\b\b\b\b\b\b\nEpoch 7/7\n108/108 [==============================] - 69s 639ms/step - loss: 0.0514 - accuracy: 0.9942 - val_loss: 0.1858 - val_accuracy: 0.9519\b\b\b\b\b\b\b\b\b\b\b\b\b\b\b\b\b\b\b\b\b\b\b\b\b\b\b\b\b\b\b\b\b\b\b\b\b\n"
        }
      ],
      "execution_count": 10,
      "metadata": {
        "execution": {
          "iopub.execute_input": "2023-03-21T17:43:47.896640Z",
          "iopub.status.busy": "2023-03-21T17:43:47.895529Z",
          "iopub.status.idle": "2023-03-21T17:47:54.230736Z",
          "shell.execute_reply": "2023-03-21T17:47:54.229655Z"
        },
        "papermill": {
          "duration": 246.504098,
          "end_time": "2023-03-21T17:47:54.333289",
          "exception": false,
          "start_time": "2023-03-21T17:43:47.829191",
          "status": "completed"
        },
        "tags": [],
        "gather": {
          "logged": 1679936517679
        }
      },
      "id": "6ae06fb4"
    },
    {
      "cell_type": "code",
      "source": [
        "pd.DataFrame(history.history).plot(figsize=(21, 10))\n",
        "plt.grid(True)\n",
        "plt.gca()\n",
        "plt.show()"
      ],
      "outputs": [
        {
          "output_type": "display_data",
          "data": {
            "text/plain": "<Figure size 2100x1000 with 1 Axes>",
            "image/png": "[encoded data removed]"
          },
          "metadata": {}
        }
      ],
      "execution_count": 11,
      "metadata": {
        "execution": {
          "iopub.execute_input": "2023-03-21T17:47:54.548694Z",
          "iopub.status.busy": "2023-03-21T17:47:54.548318Z",
          "iopub.status.idle": "2023-03-21T17:47:54.906237Z",
          "shell.execute_reply": "2023-03-21T17:47:54.905135Z"
        },
        "papermill": {
          "duration": 0.469464,
          "end_time": "2023-03-21T17:47:54.908654",
          "exception": false,
          "start_time": "2023-03-21T17:47:54.439190",
          "status": "completed"
        },
        "tags": [],
        "gather": {
          "logged": 1679936518602
        }
      },
      "id": "99548309"
    },
    {
      "cell_type": "code",
      "source": [
        "score = classifier.evaluate(test_generator)\n",
        "print('Test loss:', score[0])\n",
        "print('Test accuracy:', score[1])"
      ],
      "outputs": [
        {
          "output_type": "stream",
          "name": "stdout",
          "text": "59/59 [==============================] - 40s 682ms/step - loss: 0.0907 - accuracy: 0.9745\b\b\b\b\b\b\b\b\b\b\b\b\b\b\b\b\b\b\b\b\b\b\b\b\b\b\b\b\b\b\b\b\b\b\b\b\b\b\b\b\b\b\b\b\b\b\b\b\b\b\b\b\b\b\b\b\b\b\b\b\b\b\b\b\b\b\b\b\b\b\b\b\b\b\b\b\b\nTest loss: 0.09072280675172806\nTest accuracy: 0.9744681119918823\n"
        }
      ],
      "execution_count": 12,
      "metadata": {
        "execution": {
          "iopub.execute_input": "2023-03-21T17:47:55.196014Z",
          "iopub.status.busy": "2023-03-21T17:47:55.195258Z",
          "iopub.status.idle": "2023-03-21T17:48:10.478574Z",
          "shell.execute_reply": "2023-03-21T17:48:10.477200Z"
        },
        "papermill": {
          "duration": 15.393858,
          "end_time": "2023-03-21T17:48:10.481588",
          "exception": false,
          "start_time": "2023-03-21T17:47:55.087730",
          "status": "completed"
        },
        "tags": [],
        "gather": {
          "logged": 1679936559535
        }
      },
      "id": "f877bd4c"
    },
    {
      "cell_type": "code",
      "source": [
        "predict = np.argmax(classifier.predict(test_generator),axis=1)"
      ],
      "outputs": [],
      "execution_count": 13,
      "metadata": {
        "execution": {
          "iopub.execute_input": "2023-03-21T17:48:10.709255Z",
          "iopub.status.busy": "2023-03-21T17:48:10.708211Z",
          "iopub.status.idle": "2023-03-21T17:48:32.181378Z",
          "shell.execute_reply": "2023-03-21T17:48:32.180246Z"
        },
        "papermill": {
          "duration": 21.587485,
          "end_time": "2023-03-21T17:48:32.184325",
          "exception": false,
          "start_time": "2023-03-21T17:48:10.596840",
          "status": "completed"
        },
        "tags": [],
        "gather": {
          "logged": 1679936591693
        }
      },
      "id": "24216423"
    },
    {
      "cell_type": "code",
      "source": [
        "\n",
        "cnf_matrix = confusion_matrix(test_generator.labels, predict)\n",
        "print(cnf_matrix)"
      ],
      "outputs": [
        {
          "output_type": "stream",
          "name": "stdout",
          "text": "[[ 95   0   1   0   1]\n [  0  76   2   2   0]\n [  1   0 114   0   0]\n [  0   1   0  68   0]\n [  0   4   0   0 105]]\n"
        }
      ],
      "execution_count": 14,
      "metadata": {
        "execution": {
          "iopub.execute_input": "2023-03-21T17:48:32.412597Z",
          "iopub.status.busy": "2023-03-21T17:48:32.412230Z",
          "iopub.status.idle": "2023-03-21T17:48:32.420678Z",
          "shell.execute_reply": "2023-03-21T17:48:32.418911Z"
        },
        "papermill": {
          "duration": 0.126077,
          "end_time": "2023-03-21T17:48:32.423471",
          "exception": false,
          "start_time": "2023-03-21T17:48:32.297394",
          "status": "completed"
        },
        "tags": [],
        "gather": {
          "logged": 1679936592155
        }
      },
      "id": "4dd6260d"
    },
    {
      "cell_type": "code",
      "source": [
        "test_generator.class_indices"
      ],
      "outputs": [
        {
          "output_type": "execute_result",
          "execution_count": 15,
          "data": {
            "text/plain": "{'downdog': 0, 'goddess': 1, 'plank': 2, 'tree': 3, 'warrior2': 4}"
          },
          "metadata": {}
        }
      ],
      "execution_count": 15,
      "metadata": {
        "execution": {
          "iopub.execute_input": "2023-03-21T17:48:32.649335Z",
          "iopub.status.busy": "2023-03-21T17:48:32.648953Z",
          "iopub.status.idle": "2023-03-21T17:48:32.656023Z",
          "shell.execute_reply": "2023-03-21T17:48:32.654870Z"
        },
        "papermill": {
          "duration": 0.124306,
          "end_time": "2023-03-21T17:48:32.659790",
          "exception": false,
          "start_time": "2023-03-21T17:48:32.535484",
          "status": "completed"
        },
        "tags": [],
        "gather": {
          "logged": 1679936592589
        }
      },
      "id": "ded870e9"
    },
    {
      "cell_type": "code",
      "source": [
        "\n",
        "ax= plt.subplot()\n",
        "sns.heatmap(cnf_matrix, annot=True, fmt='g', ax=ax);\n",
        "\n",
        "# labels, title and ticks\n",
        "ax.set_xlabel('Predicted labels');\n",
        "ax.set_ylabel('True labels'); \n",
        "ax.set_title('Confusion Matrix'); \n",
        "ax.xaxis.set_ticklabels(['downdog', 'goddess','plank','tree','warrior2']); ax.yaxis.set_ticklabels(['downdog', 'goddess','plank','tree','warrior2']);"
      ],
      "outputs": [
        {
          "output_type": "display_data",
          "data": {
            "text/plain": "<Figure size 640x480 with 2 Axes>",
            "image/png": "[encoded data removed]"
          },
          "metadata": {}
        }
      ],
      "execution_count": 16,
      "metadata": {
        "execution": {
          "iopub.execute_input": "2023-03-21T17:48:32.888199Z",
          "iopub.status.busy": "2023-03-21T17:48:32.887146Z",
          "iopub.status.idle": "2023-03-21T17:48:33.521018Z",
          "shell.execute_reply": "2023-03-21T17:48:33.519946Z"
        },
        "papermill": {
          "duration": 0.751568,
          "end_time": "2023-03-21T17:48:33.523332",
          "exception": false,
          "start_time": "2023-03-21T17:48:32.771764",
          "status": "completed"
        },
        "tags": [],
        "gather": {
          "logged": 1679936593090
        }
      },
      "id": "4e290df2"
    }
  ],
  "metadata": {
    "kernelspec": {
      "name": "python38-azureml",
      "language": "python",
      "display_name": "Python 3.8 - AzureML"
    },
    "language_info": {
      "name": "python",
      "version": "3.8.10",
      "mimetype": "text/x-python",
      "codemirror_mode": {
        "name": "ipython",
        "version": 3
      },
      "pygments_lexer": "ipython3",
      "nbconvert_exporter": "python",
      "file_extension": ".py"
    },
    "papermill": {
      "output_path": "__notebook__.ipynb",
      "default_parameters": {},
      "start_time": "2023-03-21T17:36:20.220338",
      "parameters": {},
      "environment_variables": {},
      "exception": null,
      "end_time": "2023-03-21T17:48:37.411451",
      "duration": 737.191113,
      "version": "2.4.0",
      "input_path": "__notebook__.ipynb"
    },
    "microsoft": {
      "ms_spell_check": {
        "ms_spell_check_language": "en"
      },
      "host": {
        "AzureML": {
          "notebookHasBeenCompleted": true
        }
      }
    },
    "kernel_info": {
      "name": "python38-azureml"
    },
    "nteract": {
      "version": "nteract-front-end@1.0.0"
    }
  },
  "nbformat": 4,
  "nbformat_minor": 5
}