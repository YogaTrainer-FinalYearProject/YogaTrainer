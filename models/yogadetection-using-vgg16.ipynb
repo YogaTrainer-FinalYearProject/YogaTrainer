{
 "cells": [
  {
   "cell_type": "code",
   "execution_count": 1,
   "id": "f8ffd077",
   "metadata": {
    "execution": {
     "iopub.execute_input": "2023-01-05T18:23:12.963157Z",
     "iopub.status.busy": "2023-01-05T18:23:12.962603Z",
     "iopub.status.idle": "2023-01-05T18:23:24.353112Z",
     "shell.execute_reply": "2023-01-05T18:23:24.351978Z"
    },
    "id": "wkNP8sVA-KPA",
    "outputId": "93afd444-36c9-4d93-e372-4157319d1822",
    "papermill": {
     "duration": 11.400177,
     "end_time": "2023-01-05T18:23:24.355970",
     "exception": false,
     "start_time": "2023-01-05T18:23:12.955793",
     "status": "completed"
    },
    "tags": []
   },
   "outputs": [
    {
     "name": "stdout",
     "output_type": "stream",
     "text": [
      "Collecting opendatasets\r\n",
      "  Downloading opendatasets-0.1.22-py3-none-any.whl (15 kB)\r\n",
      "Requirement already satisfied: kaggle in /opt/conda/lib/python3.7/site-packages (from opendatasets) (1.5.12)\r\n",
      "Requirement already satisfied: tqdm in /opt/conda/lib/python3.7/site-packages (from opendatasets) (4.64.0)\r\n",
      "Requirement already satisfied: click in /opt/conda/lib/python3.7/site-packages (from opendatasets) (8.0.4)\r\n",
      "Requirement already satisfied: importlib-metadata in /opt/conda/lib/python3.7/site-packages (from click->opendatasets) (4.13.0)\r\n",
      "Requirement already satisfied: python-slugify in /opt/conda/lib/python3.7/site-packages (from kaggle->opendatasets) (6.1.2)\r\n",
      "Requirement already satisfied: certifi in /opt/conda/lib/python3.7/site-packages (from kaggle->opendatasets) (2022.9.24)\r\n",
      "Requirement already satisfied: python-dateutil in /opt/conda/lib/python3.7/site-packages (from kaggle->opendatasets) (2.8.2)\r\n",
      "Requirement already satisfied: urllib3 in /opt/conda/lib/python3.7/site-packages (from kaggle->opendatasets) (1.26.13)\r\n",
      "Requirement already satisfied: six>=1.10 in /opt/conda/lib/python3.7/site-packages (from kaggle->opendatasets) (1.15.0)\r\n",
      "Requirement already satisfied: requests in /opt/conda/lib/python3.7/site-packages (from kaggle->opendatasets) (2.28.1)\r\n",
      "Requirement already satisfied: zipp>=0.5 in /opt/conda/lib/python3.7/site-packages (from importlib-metadata->click->opendatasets) (3.8.0)\r\n",
      "Requirement already satisfied: typing-extensions>=3.6.4 in /opt/conda/lib/python3.7/site-packages (from importlib-metadata->click->opendatasets) (4.1.1)\r\n",
      "Requirement already satisfied: text-unidecode>=1.3 in /opt/conda/lib/python3.7/site-packages (from python-slugify->kaggle->opendatasets) (1.3)\r\n",
      "Requirement already satisfied: idna<4,>=2.5 in /opt/conda/lib/python3.7/site-packages (from requests->kaggle->opendatasets) (3.3)\r\n",
      "Requirement already satisfied: charset-normalizer<3,>=2 in /opt/conda/lib/python3.7/site-packages (from requests->kaggle->opendatasets) (2.1.0)\r\n",
      "Installing collected packages: opendatasets\r\n",
      "Successfully installed opendatasets-0.1.22\r\n",
      "\u001b[33mWARNING: Running pip as the 'root' user can result in broken permissions and conflicting behaviour with the system package manager. It is recommended to use a virtual environment instead: https://pip.pypa.io/warnings/venv\u001b[0m\u001b[33m\r\n",
      "\u001b[0m"
     ]
    }
   ],
   "source": [
    "!pip install opendatasets"
   ]
  },
  {
   "cell_type": "code",
   "execution_count": 2,
   "id": "6446f4b4",
   "metadata": {
    "execution": {
     "iopub.execute_input": "2023-01-05T18:23:24.366641Z",
     "iopub.status.busy": "2023-01-05T18:23:24.366311Z",
     "iopub.status.idle": "2023-01-05T18:23:24.395116Z",
     "shell.execute_reply": "2023-01-05T18:23:24.394261Z"
    },
    "id": "06ebfe21",
    "papermill": {
     "duration": 0.036337,
     "end_time": "2023-01-05T18:23:24.397150",
     "exception": false,
     "start_time": "2023-01-05T18:23:24.360813",
     "status": "completed"
    },
    "tags": []
   },
   "outputs": [],
   "source": [
    "import opendatasets as od"
   ]
  },
  {
   "cell_type": "code",
   "execution_count": 3,
   "id": "0b15ae21",
   "metadata": {
    "execution": {
     "iopub.execute_input": "2023-01-05T18:23:24.407369Z",
     "iopub.status.busy": "2023-01-05T18:23:24.406750Z",
     "iopub.status.idle": "2023-01-05T18:24:19.073728Z",
     "shell.execute_reply": "2023-01-05T18:24:19.072535Z"
    },
    "id": "aedbe5b5",
    "outputId": "971afef3-6902-4133-af8d-62fcb0a6b33c",
    "papermill": {
     "duration": 54.674685,
     "end_time": "2023-01-05T18:24:19.076221",
     "exception": false,
     "start_time": "2023-01-05T18:23:24.401536",
     "status": "completed"
    },
    "tags": []
   },
   "outputs": [
    {
     "name": "stdout",
     "output_type": "stream",
     "text": [
      "\u001b[31mERROR: Could not find a version that satisfies the requirement os (from versions: none)\u001b[0m\u001b[31m\r\n",
      "\u001b[0m\u001b[31mERROR: No matching distribution found for os\u001b[0m\u001b[31m\r\n",
      "\u001b[0mRequirement already satisfied: tensorflow in /opt/conda/lib/python3.7/site-packages (2.6.4)\r\n",
      "Requirement already satisfied: astunparse~=1.6.3 in /opt/conda/lib/python3.7/site-packages (from tensorflow) (1.6.3)\r\n",
      "Collecting numpy~=1.19.2\r\n",
      "  Downloading numpy-1.19.5-cp37-cp37m-manylinux2010_x86_64.whl (14.8 MB)\r\n",
      "\u001b[2K     \u001b[90m━━━━━━━━━━━━━━━━━━━━━━━━━━━━━━━━━━━━━━━━\u001b[0m \u001b[32m14.8/14.8 MB\u001b[0m \u001b[31m26.0 MB/s\u001b[0m eta \u001b[36m0:00:00\u001b[0m\r\n",
      "\u001b[?25hRequirement already satisfied: flatbuffers~=1.12.0 in /opt/conda/lib/python3.7/site-packages (from tensorflow) (1.12)\r\n",
      "Requirement already satisfied: keras-preprocessing~=1.1.2 in /opt/conda/lib/python3.7/site-packages (from tensorflow) (1.1.2)\r\n",
      "Requirement already satisfied: opt-einsum~=3.3.0 in /opt/conda/lib/python3.7/site-packages (from tensorflow) (3.3.0)\r\n",
      "Requirement already satisfied: gast==0.4.0 in /opt/conda/lib/python3.7/site-packages (from tensorflow) (0.4.0)\r\n",
      "Requirement already satisfied: clang~=5.0 in /opt/conda/lib/python3.7/site-packages (from tensorflow) (5.0)\r\n",
      "Collecting typing-extensions<3.11,>=3.7\r\n",
      "  Downloading typing_extensions-3.10.0.2-py3-none-any.whl (26 kB)\r\n",
      "Requirement already satisfied: six~=1.15.0 in /opt/conda/lib/python3.7/site-packages (from tensorflow) (1.15.0)\r\n",
      "Requirement already satisfied: grpcio<2.0,>=1.37.0 in /opt/conda/lib/python3.7/site-packages (from tensorflow) (1.51.1)\r\n",
      "Requirement already satisfied: protobuf>=3.9.2 in /opt/conda/lib/python3.7/site-packages (from tensorflow) (3.19.4)\r\n",
      "Requirement already satisfied: termcolor~=1.1.0 in /opt/conda/lib/python3.7/site-packages (from tensorflow) (1.1.0)\r\n",
      "Requirement already satisfied: tensorflow-estimator<2.7,>=2.6.0 in /opt/conda/lib/python3.7/site-packages (from tensorflow) (2.6.0)\r\n",
      "Requirement already satisfied: wheel~=0.35 in /opt/conda/lib/python3.7/site-packages (from tensorflow) (0.37.1)\r\n",
      "Requirement already satisfied: keras<2.7,>=2.6.0 in /opt/conda/lib/python3.7/site-packages (from tensorflow) (2.6.0)\r\n",
      "Requirement already satisfied: google-pasta~=0.2 in /opt/conda/lib/python3.7/site-packages (from tensorflow) (0.2.0)\r\n",
      "Requirement already satisfied: absl-py~=0.10 in /opt/conda/lib/python3.7/site-packages (from tensorflow) (0.15.0)\r\n",
      "Collecting h5py~=3.1.0\r\n",
      "  Downloading h5py-3.1.0-cp37-cp37m-manylinux1_x86_64.whl (4.0 MB)\r\n",
      "\u001b[2K     \u001b[90m━━━━━━━━━━━━━━━━━━━━━━━━━━━━━━━━━━━━━━━━\u001b[0m \u001b[32m4.0/4.0 MB\u001b[0m \u001b[31m33.1 MB/s\u001b[0m eta \u001b[36m0:00:00\u001b[0m\r\n",
      "\u001b[?25hRequirement already satisfied: wrapt~=1.12.1 in /opt/conda/lib/python3.7/site-packages (from tensorflow) (1.12.1)\r\n",
      "Requirement already satisfied: tensorboard<2.7,>=2.6.0 in /opt/conda/lib/python3.7/site-packages (from tensorflow) (2.6.0)\r\n",
      "Requirement already satisfied: cached-property in /opt/conda/lib/python3.7/site-packages (from h5py~=3.1.0->tensorflow) (1.5.2)\r\n",
      "Requirement already satisfied: google-auth-oauthlib<0.5,>=0.4.1 in /opt/conda/lib/python3.7/site-packages (from tensorboard<2.7,>=2.6.0->tensorflow) (0.4.6)\r\n",
      "Requirement already satisfied: tensorboard-data-server<0.7.0,>=0.6.0 in /opt/conda/lib/python3.7/site-packages (from tensorboard<2.7,>=2.6.0->tensorflow) (0.6.1)\r\n",
      "Requirement already satisfied: markdown>=2.6.8 in /opt/conda/lib/python3.7/site-packages (from tensorboard<2.7,>=2.6.0->tensorflow) (3.3.7)\r\n",
      "Requirement already satisfied: werkzeug>=0.11.15 in /opt/conda/lib/python3.7/site-packages (from tensorboard<2.7,>=2.6.0->tensorflow) (2.2.2)\r\n",
      "Requirement already satisfied: requests<3,>=2.21.0 in /opt/conda/lib/python3.7/site-packages (from tensorboard<2.7,>=2.6.0->tensorflow) (2.28.1)\r\n",
      "Requirement already satisfied: setuptools>=41.0.0 in /opt/conda/lib/python3.7/site-packages (from tensorboard<2.7,>=2.6.0->tensorflow) (59.8.0)\r\n",
      "Requirement already satisfied: tensorboard-plugin-wit>=1.6.0 in /opt/conda/lib/python3.7/site-packages (from tensorboard<2.7,>=2.6.0->tensorflow) (1.8.1)\r\n",
      "Requirement already satisfied: google-auth<2,>=1.6.3 in /opt/conda/lib/python3.7/site-packages (from tensorboard<2.7,>=2.6.0->tensorflow) (1.35.0)\r\n",
      "Requirement already satisfied: rsa<5,>=3.1.4 in /opt/conda/lib/python3.7/site-packages (from google-auth<2,>=1.6.3->tensorboard<2.7,>=2.6.0->tensorflow) (4.8)\r\n",
      "Requirement already satisfied: pyasn1-modules>=0.2.1 in /opt/conda/lib/python3.7/site-packages (from google-auth<2,>=1.6.3->tensorboard<2.7,>=2.6.0->tensorflow) (0.2.7)\r\n",
      "Requirement already satisfied: cachetools<5.0,>=2.0.0 in /opt/conda/lib/python3.7/site-packages (from google-auth<2,>=1.6.3->tensorboard<2.7,>=2.6.0->tensorflow) (4.2.4)\r\n",
      "Requirement already satisfied: requests-oauthlib>=0.7.0 in /opt/conda/lib/python3.7/site-packages (from google-auth-oauthlib<0.5,>=0.4.1->tensorboard<2.7,>=2.6.0->tensorflow) (1.3.1)\r\n",
      "Requirement already satisfied: importlib-metadata>=4.4 in /opt/conda/lib/python3.7/site-packages (from markdown>=2.6.8->tensorboard<2.7,>=2.6.0->tensorflow) (4.13.0)\r\n",
      "Requirement already satisfied: certifi>=2017.4.17 in /opt/conda/lib/python3.7/site-packages (from requests<3,>=2.21.0->tensorboard<2.7,>=2.6.0->tensorflow) (2022.9.24)\r\n",
      "Requirement already satisfied: urllib3<1.27,>=1.21.1 in /opt/conda/lib/python3.7/site-packages (from requests<3,>=2.21.0->tensorboard<2.7,>=2.6.0->tensorflow) (1.26.13)\r\n",
      "Requirement already satisfied: charset-normalizer<3,>=2 in /opt/conda/lib/python3.7/site-packages (from requests<3,>=2.21.0->tensorboard<2.7,>=2.6.0->tensorflow) (2.1.0)\r\n",
      "Requirement already satisfied: idna<4,>=2.5 in /opt/conda/lib/python3.7/site-packages (from requests<3,>=2.21.0->tensorboard<2.7,>=2.6.0->tensorflow) (3.3)\r\n",
      "Requirement already satisfied: MarkupSafe>=2.1.1 in /opt/conda/lib/python3.7/site-packages (from werkzeug>=0.11.15->tensorboard<2.7,>=2.6.0->tensorflow) (2.1.1)\r\n",
      "Requirement already satisfied: zipp>=0.5 in /opt/conda/lib/python3.7/site-packages (from importlib-metadata>=4.4->markdown>=2.6.8->tensorboard<2.7,>=2.6.0->tensorflow) (3.8.0)\r\n",
      "Requirement already satisfied: pyasn1<0.5.0,>=0.4.6 in /opt/conda/lib/python3.7/site-packages (from pyasn1-modules>=0.2.1->google-auth<2,>=1.6.3->tensorboard<2.7,>=2.6.0->tensorflow) (0.4.8)\r\n",
      "Requirement already satisfied: oauthlib>=3.0.0 in /opt/conda/lib/python3.7/site-packages (from requests-oauthlib>=0.7.0->google-auth-oauthlib<0.5,>=0.4.1->tensorboard<2.7,>=2.6.0->tensorflow) (3.2.0)\r\n",
      "Installing collected packages: typing-extensions, numpy, h5py\r\n",
      "  Attempting uninstall: typing-extensions\r\n",
      "    Found existing installation: typing_extensions 4.1.1\r\n",
      "    Uninstalling typing_extensions-4.1.1:\r\n",
      "      Successfully uninstalled typing_extensions-4.1.1\r\n",
      "  Attempting uninstall: numpy\r\n",
      "    Found existing installation: numpy 1.21.6\r\n",
      "    Uninstalling numpy-1.21.6:\r\n",
      "      Successfully uninstalled numpy-1.21.6\r\n",
      "  Attempting uninstall: h5py\r\n",
      "    Found existing installation: h5py 3.7.0\r\n",
      "    Uninstalling h5py-3.7.0:\r\n",
      "      Successfully uninstalled h5py-3.7.0\r\n",
      "\u001b[31mERROR: pip's dependency resolver does not currently take into account all the packages that are installed. This behaviour is the source of the following dependency conflicts.\r\n",
      "tensorflow-io 0.21.0 requires tensorflow-io-gcs-filesystem==0.21.0, which is not installed.\r\n",
      "dask-cudf 21.10.1 requires cupy-cuda114, which is not installed.\r\n",
      "beatrix-jupyterlab 3.1.7 requires google-cloud-bigquery-storage, which is not installed.\r\n",
      "xarray-einstats 0.2.2 requires numpy>=1.21, but you have numpy 1.19.5 which is incompatible.\r\n",
      "tfx-bsl 1.9.0 requires google-api-python-client<2,>=1.7.11, but you have google-api-python-client 2.52.0 which is incompatible.\r\n",
      "tfx-bsl 1.9.0 requires tensorflow!=2.0.*,!=2.1.*,!=2.2.*,!=2.3.*,!=2.4.*,!=2.5.*,!=2.6.*,!=2.7.*,!=2.8.*,<3,>=1.15.5, but you have tensorflow 2.6.4 which is incompatible.\r\n",
      "tensorflow-transform 1.9.0 requires tensorflow!=2.0.*,!=2.1.*,!=2.2.*,!=2.3.*,!=2.4.*,!=2.5.*,!=2.6.*,!=2.7.*,!=2.8.*,<2.10,>=1.15.5, but you have tensorflow 2.6.4 which is incompatible.\r\n",
      "tensorflow-serving-api 2.9.0 requires tensorflow<3,>=2.9.0, but you have tensorflow 2.6.4 which is incompatible.\r\n",
      "rich 12.6.0 requires typing-extensions<5.0,>=4.0.0; python_version < \"3.9\", but you have typing-extensions 3.10.0.2 which is incompatible.\r\n",
      "pytorch-lightning 1.8.3.post1 requires typing-extensions>=4.0.0, but you have typing-extensions 3.10.0.2 which is incompatible.\r\n",
      "pytools 2022.1.12 requires typing-extensions>=4.0; python_version < \"3.11\", but you have typing-extensions 3.10.0.2 which is incompatible.\r\n",
      "pdpbox 0.2.1 requires matplotlib==3.1.1, but you have matplotlib 3.5.3 which is incompatible.\r\n",
      "pandas-profiling 3.1.0 requires markupsafe~=2.0.1, but you have markupsafe 2.1.1 which is incompatible.\r\n",
      "ortools 9.5.2237 requires protobuf>=4.21.5, but you have protobuf 3.19.4 which is incompatible.\r\n",
      "nnabla 1.31.0 requires numpy>=1.20.0, but you have numpy 1.19.5 which is incompatible.\r\n",
      "jaxlib 0.3.25+cuda11.cudnn805 requires numpy>=1.20, but you have numpy 1.19.5 which is incompatible.\r\n",
      "jax 0.3.25 requires numpy>=1.20, but you have numpy 1.19.5 which is incompatible.\r\n",
      "flax 0.6.2 requires typing-extensions>=4.1.1, but you have typing-extensions 3.10.0.2 which is incompatible.\r\n",
      "flake8 5.0.4 requires importlib-metadata<4.3,>=1.1.0; python_version < \"3.8\", but you have importlib-metadata 4.13.0 which is incompatible.\r\n",
      "featuretools 1.11.1 requires numpy>=1.21.0, but you have numpy 1.19.5 which is incompatible.\r\n",
      "dask-cudf 21.10.1 requires dask==2021.09.1, but you have dask 2022.2.0 which is incompatible.\r\n",
      "dask-cudf 21.10.1 requires distributed==2021.09.1, but you have distributed 2022.2.0 which is incompatible.\r\n",
      "cupy-cuda110 11.3.0 requires numpy<1.26,>=1.20, but you have numpy 1.19.5 which is incompatible.\r\n",
      "cmdstanpy 1.0.8 requires numpy>=1.21, but you have numpy 1.19.5 which is incompatible.\r\n",
      "apache-beam 2.40.0 requires dill<0.3.2,>=0.3.1.1, but you have dill 0.3.6 which is incompatible.\r\n",
      "allennlp 2.10.1 requires h5py>=3.6.0, but you have h5py 3.1.0 which is incompatible.\r\n",
      "allennlp 2.10.1 requires numpy>=1.21.4, but you have numpy 1.19.5 which is incompatible.\r\n",
      "aioitertools 0.11.0 requires typing_extensions>=4.0; python_version < \"3.10\", but you have typing-extensions 3.10.0.2 which is incompatible.\r\n",
      "aiobotocore 2.4.1 requires botocore<1.27.60,>=1.27.59, but you have botocore 1.29.23 which is incompatible.\u001b[0m\u001b[31m\r\n",
      "\u001b[0mSuccessfully installed h5py-3.1.0 numpy-1.19.5 typing-extensions-3.10.0.2\r\n",
      "\u001b[33mWARNING: Running pip as the 'root' user can result in broken permissions and conflicting behaviour with the system package manager. It is recommended to use a virtual environment instead: https://pip.pypa.io/warnings/venv\u001b[0m\u001b[33m\r\n",
      "\u001b[0mRequirement already satisfied: pandas in /opt/conda/lib/python3.7/site-packages (1.3.5)\r\n",
      "Requirement already satisfied: python-dateutil>=2.7.3 in /opt/conda/lib/python3.7/site-packages (from pandas) (2.8.2)\r\n",
      "Requirement already satisfied: pytz>=2017.3 in /opt/conda/lib/python3.7/site-packages (from pandas) (2022.1)\r\n",
      "Requirement already satisfied: numpy>=1.17.3 in /opt/conda/lib/python3.7/site-packages (from pandas) (1.19.5)\r\n",
      "Requirement already satisfied: six>=1.5 in /opt/conda/lib/python3.7/site-packages (from python-dateutil>=2.7.3->pandas) (1.15.0)\r\n",
      "\u001b[33mWARNING: Running pip as the 'root' user can result in broken permissions and conflicting behaviour with the system package manager. It is recommended to use a virtual environment instead: https://pip.pypa.io/warnings/venv\u001b[0m\u001b[33m\r\n",
      "\u001b[0mRequirement already satisfied: numpy in /opt/conda/lib/python3.7/site-packages (1.19.5)\r\n",
      "\u001b[33mWARNING: Running pip as the 'root' user can result in broken permissions and conflicting behaviour with the system package manager. It is recommended to use a virtual environment instead: https://pip.pypa.io/warnings/venv\u001b[0m\u001b[33m\r\n",
      "\u001b[0mRequirement already satisfied: opencv-python in /opt/conda/lib/python3.7/site-packages (4.5.4.60)\r\n",
      "Requirement already satisfied: numpy>=1.14.5 in /opt/conda/lib/python3.7/site-packages (from opencv-python) (1.19.5)\r\n",
      "\u001b[33mWARNING: Running pip as the 'root' user can result in broken permissions and conflicting behaviour with the system package manager. It is recommended to use a virtual environment instead: https://pip.pypa.io/warnings/venv\u001b[0m\u001b[33m\r\n",
      "\u001b[0m"
     ]
    }
   ],
   "source": [
    "!pip install os\n",
    "!pip install tensorflow\n",
    "!pip install pandas\n",
    "!pip install numpy\n",
    "!pip install opencv-python"
   ]
  },
  {
   "cell_type": "code",
   "execution_count": 4,
   "id": "9b82aef1",
   "metadata": {
    "execution": {
     "iopub.execute_input": "2023-01-05T18:24:19.092551Z",
     "iopub.status.busy": "2023-01-05T18:24:19.092225Z",
     "iopub.status.idle": "2023-01-05T18:24:24.368899Z",
     "shell.execute_reply": "2023-01-05T18:24:24.367930Z"
    },
    "id": "38683444",
    "papermill": {
     "duration": 5.287455,
     "end_time": "2023-01-05T18:24:24.371347",
     "exception": false,
     "start_time": "2023-01-05T18:24:19.083892",
     "status": "completed"
    },
    "tags": []
   },
   "outputs": [],
   "source": [
    "import numpy as np\n",
    "import pandas as pd\n",
    "import cv2\n",
    "import os\n",
    "from sklearn.metrics import classification_report, confusion_matrix\n",
    "import random\n",
    "from tensorflow.keras.preprocessing import image\n",
    "from tensorflow.keras.utils import to_categorical\n",
    "from keras.applications.mobilenet import MobileNet, preprocess_input\n",
    "from tensorflow.keras.applications.mobilenet_v2 import MobileNetV2\n",
    "from tensorflow.keras.models import Sequential\n",
    "from tensorflow.keras.layers import Dropout, Dense,BatchNormalization, Flatten, MaxPool2D\n",
    "from keras.callbacks import ModelCheckpoint, EarlyStopping, ReduceLROnPlateau, Callback\n",
    "from keras.layers import Conv2D, Reshape\n",
    "from tensorflow.keras.utils import Sequence\n",
    "from keras.backend import epsilon\n",
    "import tensorflow as tf\n",
    "from sklearn.model_selection import train_test_split\n",
    "from tensorflow.keras.preprocessing.image import ImageDataGenerator\n",
    "import matplotlib.pyplot as plt\n",
    "import seaborn as sns\n",
    "from tensorflow.keras.layers import GlobalAveragePooling2D\n",
    "from tensorflow.keras.optimizers import Adam\n",
    "import warnings\n",
    "warnings.filterwarnings('ignore')"
   ]
  },
  {
   "cell_type": "code",
   "execution_count": 5,
   "id": "a1a6a937",
   "metadata": {
    "execution": {
     "iopub.execute_input": "2023-01-05T18:24:24.387715Z",
     "iopub.status.busy": "2023-01-05T18:24:24.387228Z",
     "iopub.status.idle": "2023-01-05T18:24:24.401747Z",
     "shell.execute_reply": "2023-01-05T18:24:24.400915Z"
    },
    "id": "NkrdqWqB_Sdq",
    "outputId": "68192fcb-6d34-4b38-f2e9-d61ffe96d3d0",
    "papermill": {
     "duration": 0.025064,
     "end_time": "2023-01-05T18:24:24.403803",
     "exception": false,
     "start_time": "2023-01-05T18:24:24.378739",
     "status": "completed"
    },
    "tags": []
   },
   "outputs": [
    {
     "data": {
      "text/plain": [
       "['downdog', 'tree', 'plank', 'warrior2', 'goddess']"
      ]
     },
     "execution_count": 5,
     "metadata": {},
     "output_type": "execute_result"
    }
   ],
   "source": [
    "import os\n",
    "Class = os.listdir(\"/kaggle/input/yoga-poses-dataset/DATASET/TRAIN\")\n",
    "Class"
   ]
  },
  {
   "cell_type": "code",
   "execution_count": 6,
   "id": "c705ea5c",
   "metadata": {
    "execution": {
     "iopub.execute_input": "2023-01-05T18:24:24.418924Z",
     "iopub.status.busy": "2023-01-05T18:24:24.418661Z",
     "iopub.status.idle": "2023-01-05T18:24:24.732922Z",
     "shell.execute_reply": "2023-01-05T18:24:24.731972Z"
    },
    "id": "8R-7xEkL_Z_F",
    "outputId": "afd5af05-654f-4b02-991c-b96ae435afa9",
    "papermill": {
     "duration": 0.324409,
     "end_time": "2023-01-05T18:24:24.735215",
     "exception": false,
     "start_time": "2023-01-05T18:24:24.410806",
     "status": "completed"
    },
    "tags": []
   },
   "outputs": [
    {
     "data": {
      "text/plain": [
       "0    /kaggle/input/yoga-poses-dataset/DATASET/TRAIN...\n",
       "1    /kaggle/input/yoga-poses-dataset/DATASET/TRAIN...\n",
       "2    /kaggle/input/yoga-poses-dataset/DATASET/TRAIN...\n",
       "3    /kaggle/input/yoga-poses-dataset/DATASET/TRAIN...\n",
       "4    /kaggle/input/yoga-poses-dataset/DATASET/TRAIN...\n",
       "Name: filepaths, dtype: object"
      ]
     },
     "execution_count": 6,
     "metadata": {},
     "output_type": "execute_result"
    }
   ],
   "source": [
    "import matplotlib.pyplot as plt\n",
    "import matplotlib.image as mpimg\n",
    "\n",
    "dir = '/kaggle/input/yoga-poses-dataset/DATASET/TRAIN'\n",
    "classlist=sorted(os.listdir(dir))\n",
    "filepaths = []\n",
    "labels=[]\n",
    "for klass in classlist:\n",
    "    classpath=os.path.join(dir, klass)\n",
    "    flist=os.listdir(classpath)        \n",
    "    for f in flist:\n",
    "        fpath=os.path.join(classpath,f)\n",
    "        filepaths.append(fpath)\n",
    "        labels.append(klass)\n",
    "Fseries=pd.Series(filepaths, name='filepaths')\n",
    "Lseries=pd.Series(labels, name='labels')        \n",
    "df=pd.concat([Fseries, Lseries], axis=1)\n",
    "Fseries.head()\n"
   ]
  },
  {
   "cell_type": "code",
   "execution_count": 7,
   "id": "3b608884",
   "metadata": {
    "execution": {
     "iopub.execute_input": "2023-01-05T18:24:24.751663Z",
     "iopub.status.busy": "2023-01-05T18:24:24.750691Z",
     "iopub.status.idle": "2023-01-05T18:24:24.862403Z",
     "shell.execute_reply": "2023-01-05T18:24:24.861135Z"
    },
    "id": "LtV_eqrkDvUr",
    "outputId": "c2bebccf-c091-4ca3-9e11-7f3527f81a9f",
    "papermill": {
     "duration": 0.122498,
     "end_time": "2023-01-05T18:24:24.865105",
     "exception": false,
     "start_time": "2023-01-05T18:24:24.742607",
     "status": "completed"
    },
    "tags": []
   },
   "outputs": [
    {
     "name": "stdout",
     "output_type": "stream",
     "text": [
      "Found 1081 images belonging to 5 classes.\n"
     ]
    }
   ],
   "source": [
    "IMAGE_SIZE = 224\n",
    "CHANNELS = 3\n",
    "\n",
    "train_datagen = ImageDataGenerator(\n",
    "        rescale = 1./255,\n",
    "        horizontal_flip = True,\n",
    "        rotation_range = 10\n",
    ")\n",
    "train_generator = train_datagen.flow_from_directory(\n",
    "    '/kaggle/input/yoga-poses-dataset/DATASET/TRAIN',\n",
    "    target_size = (IMAGE_SIZE,IMAGE_SIZE),\n",
    "    batch_size = 32,\n",
    "    class_mode = 'categorical',\n",
    ")"
   ]
  },
  {
   "cell_type": "code",
   "execution_count": 8,
   "id": "1d16e833",
   "metadata": {
    "execution": {
     "iopub.execute_input": "2023-01-05T18:24:24.882991Z",
     "iopub.status.busy": "2023-01-05T18:24:24.882166Z",
     "iopub.status.idle": "2023-01-05T18:24:25.093396Z",
     "shell.execute_reply": "2023-01-05T18:24:25.092136Z"
    },
    "id": "az3SCrfbEf-w",
    "outputId": "8b6ec84a-fa95-4c18-a469-13a50e28011f",
    "papermill": {
     "duration": 0.222944,
     "end_time": "2023-01-05T18:24:25.096043",
     "exception": false,
     "start_time": "2023-01-05T18:24:24.873099",
     "status": "completed"
    },
    "tags": []
   },
   "outputs": [
    {
     "name": "stdout",
     "output_type": "stream",
     "text": [
      "Found 470 images belonging to 5 classes.\n"
     ]
    }
   ],
   "source": [
    "test_datagen = ImageDataGenerator(\n",
    "        rescale = 1./255,\n",
    "        horizontal_flip = True,\n",
    "        rotation_range = 10\n",
    ")\n",
    "test_generator = test_datagen.flow_from_directory(\n",
    "    '/kaggle/input/yoga-poses-dataset/DATASET/TEST',\n",
    "    target_size = (IMAGE_SIZE,IMAGE_SIZE),\n",
    "    batch_size = 32,\n",
    "    class_mode = 'categorical',\n",
    ")"
   ]
  },
  {
   "cell_type": "code",
   "execution_count": 9,
   "id": "d279d5ca",
   "metadata": {
    "execution": {
     "iopub.execute_input": "2023-01-05T18:24:25.112742Z",
     "iopub.status.busy": "2023-01-05T18:24:25.111931Z",
     "iopub.status.idle": "2023-01-05T18:24:25.116965Z",
     "shell.execute_reply": "2023-01-05T18:24:25.116098Z"
    },
    "id": "C8V90dCGEsq5",
    "papermill": {
     "duration": 0.01507,
     "end_time": "2023-01-05T18:24:25.118921",
     "exception": false,
     "start_time": "2023-01-05T18:24:25.103851",
     "status": "completed"
    },
    "tags": []
   },
   "outputs": [],
   "source": [
    "from tensorflow.keras.applications.vgg16 import VGG16"
   ]
  },
  {
   "cell_type": "code",
   "execution_count": 10,
   "id": "8cd79128",
   "metadata": {
    "execution": {
     "iopub.execute_input": "2023-01-05T18:24:25.134782Z",
     "iopub.status.busy": "2023-01-05T18:24:25.133999Z",
     "iopub.status.idle": "2023-01-05T18:24:30.401348Z",
     "shell.execute_reply": "2023-01-05T18:24:30.400232Z"
    },
    "id": "-W8TltTvEvv_",
    "outputId": "3c25dc61-0cef-4a55-a6e0-3c59b7f9f5ea",
    "papermill": {
     "duration": 5.278337,
     "end_time": "2023-01-05T18:24:30.404344",
     "exception": false,
     "start_time": "2023-01-05T18:24:25.126007",
     "status": "completed"
    },
    "tags": []
   },
   "outputs": [
    {
     "name": "stderr",
     "output_type": "stream",
     "text": [
      "2023-01-05 18:24:25.224135: I tensorflow/stream_executor/cuda/cuda_gpu_executor.cc:937] successful NUMA node read from SysFS had negative value (-1), but there must be at least one NUMA node, so returning NUMA node zero\n",
      "2023-01-05 18:24:25.346387: I tensorflow/stream_executor/cuda/cuda_gpu_executor.cc:937] successful NUMA node read from SysFS had negative value (-1), but there must be at least one NUMA node, so returning NUMA node zero\n",
      "2023-01-05 18:24:25.347242: I tensorflow/stream_executor/cuda/cuda_gpu_executor.cc:937] successful NUMA node read from SysFS had negative value (-1), but there must be at least one NUMA node, so returning NUMA node zero\n",
      "2023-01-05 18:24:25.349010: I tensorflow/core/platform/cpu_feature_guard.cc:142] This TensorFlow binary is optimized with oneAPI Deep Neural Network Library (oneDNN) to use the following CPU instructions in performance-critical operations:  AVX2 AVX512F FMA\n",
      "To enable them in other operations, rebuild TensorFlow with the appropriate compiler flags.\n",
      "2023-01-05 18:24:25.349359: I tensorflow/stream_executor/cuda/cuda_gpu_executor.cc:937] successful NUMA node read from SysFS had negative value (-1), but there must be at least one NUMA node, so returning NUMA node zero\n",
      "2023-01-05 18:24:25.350292: I tensorflow/stream_executor/cuda/cuda_gpu_executor.cc:937] successful NUMA node read from SysFS had negative value (-1), but there must be at least one NUMA node, so returning NUMA node zero\n",
      "2023-01-05 18:24:25.351211: I tensorflow/stream_executor/cuda/cuda_gpu_executor.cc:937] successful NUMA node read from SysFS had negative value (-1), but there must be at least one NUMA node, so returning NUMA node zero\n",
      "2023-01-05 18:24:27.332821: I tensorflow/stream_executor/cuda/cuda_gpu_executor.cc:937] successful NUMA node read from SysFS had negative value (-1), but there must be at least one NUMA node, so returning NUMA node zero\n",
      "2023-01-05 18:24:27.333664: I tensorflow/stream_executor/cuda/cuda_gpu_executor.cc:937] successful NUMA node read from SysFS had negative value (-1), but there must be at least one NUMA node, so returning NUMA node zero\n",
      "2023-01-05 18:24:27.334356: I tensorflow/stream_executor/cuda/cuda_gpu_executor.cc:937] successful NUMA node read from SysFS had negative value (-1), but there must be at least one NUMA node, so returning NUMA node zero\n",
      "2023-01-05 18:24:27.334948: I tensorflow/core/common_runtime/gpu/gpu_device.cc:1510] Created device /job:localhost/replica:0/task:0/device:GPU:0 with 15401 MB memory:  -> device: 0, name: Tesla P100-PCIE-16GB, pci bus id: 0000:00:04.0, compute capability: 6.0\n"
     ]
    },
    {
     "name": "stdout",
     "output_type": "stream",
     "text": [
      "Downloading data from https://storage.googleapis.com/tensorflow/keras-applications/vgg16/vgg16_weights_tf_dim_ordering_tf_kernels_notop.h5\n",
      "58892288/58889256 [==============================] - 2s 0us/step\n",
      "58900480/58889256 [==============================] - 2s 0us/step\n",
      "Model: \"vgg16\"\n",
      "_________________________________________________________________\n",
      "Layer (type)                 Output Shape              Param #   \n",
      "=================================================================\n",
      "input_1 (InputLayer)         [(None, 224, 224, 3)]     0         \n",
      "_________________________________________________________________\n",
      "block1_conv1 (Conv2D)        (None, 224, 224, 64)      1792      \n",
      "_________________________________________________________________\n",
      "block1_conv2 (Conv2D)        (None, 224, 224, 64)      36928     \n",
      "_________________________________________________________________\n",
      "block1_pool (MaxPooling2D)   (None, 112, 112, 64)      0         \n",
      "_________________________________________________________________\n",
      "block2_conv1 (Conv2D)        (None, 112, 112, 128)     73856     \n",
      "_________________________________________________________________\n",
      "block2_conv2 (Conv2D)        (None, 112, 112, 128)     147584    \n",
      "_________________________________________________________________\n",
      "block2_pool (MaxPooling2D)   (None, 56, 56, 128)       0         \n",
      "_________________________________________________________________\n",
      "block3_conv1 (Conv2D)        (None, 56, 56, 256)       295168    \n",
      "_________________________________________________________________\n",
      "block3_conv2 (Conv2D)        (None, 56, 56, 256)       590080    \n",
      "_________________________________________________________________\n",
      "block3_conv3 (Conv2D)        (None, 56, 56, 256)       590080    \n",
      "_________________________________________________________________\n",
      "block3_pool (MaxPooling2D)   (None, 28, 28, 256)       0         \n",
      "_________________________________________________________________\n",
      "block4_conv1 (Conv2D)        (None, 28, 28, 512)       1180160   \n",
      "_________________________________________________________________\n",
      "block4_conv2 (Conv2D)        (None, 28, 28, 512)       2359808   \n",
      "_________________________________________________________________\n",
      "block4_conv3 (Conv2D)        (None, 28, 28, 512)       2359808   \n",
      "_________________________________________________________________\n",
      "block4_pool (MaxPooling2D)   (None, 14, 14, 512)       0         \n",
      "_________________________________________________________________\n",
      "block5_conv1 (Conv2D)        (None, 14, 14, 512)       2359808   \n",
      "_________________________________________________________________\n",
      "block5_conv2 (Conv2D)        (None, 14, 14, 512)       2359808   \n",
      "_________________________________________________________________\n",
      "block5_conv3 (Conv2D)        (None, 14, 14, 512)       2359808   \n",
      "_________________________________________________________________\n",
      "block5_pool (MaxPooling2D)   (None, 7, 7, 512)         0         \n",
      "=================================================================\n",
      "Total params: 14,714,688\n",
      "Trainable params: 0\n",
      "Non-trainable params: 14,714,688\n",
      "_________________________________________________________________\n"
     ]
    }
   ],
   "source": [
    "input_shape = (IMAGE_SIZE,IMAGE_SIZE,CHANNELS)\n",
    "n_classes = 3\n",
    "pre_trained_model = VGG16(\n",
    "    input_shape = input_shape,\n",
    "    include_top = False,\n",
    "    weights = \"imagenet\"\n",
    ")\n",
    "\n",
    "for layer in pre_trained_model.layers:\n",
    "    layer.trainable = False\n",
    "\n",
    "pre_trained_model.summary()\n"
   ]
  },
  {
   "cell_type": "code",
   "execution_count": 11,
   "id": "cbb6cb48",
   "metadata": {
    "execution": {
     "iopub.execute_input": "2023-01-05T18:24:30.428420Z",
     "iopub.status.busy": "2023-01-05T18:24:30.426776Z",
     "iopub.status.idle": "2023-01-05T18:24:30.513404Z",
     "shell.execute_reply": "2023-01-05T18:24:30.511954Z"
    },
    "id": "Tl-H20CWFSfO",
    "outputId": "0c7ff341-4ff5-41b0-ba4e-ce3a1f2f94a4",
    "papermill": {
     "duration": 0.100246,
     "end_time": "2023-01-05T18:24:30.515607",
     "exception": false,
     "start_time": "2023-01-05T18:24:30.415361",
     "status": "completed"
    },
    "tags": []
   },
   "outputs": [
    {
     "name": "stdout",
     "output_type": "stream",
     "text": [
      "Model: \"sequential\"\n",
      "_________________________________________________________________\n",
      "Layer (type)                 Output Shape              Param #   \n",
      "=================================================================\n",
      "vgg16 (Functional)           (None, 7, 7, 512)         14714688  \n",
      "_________________________________________________________________\n",
      "flatten (Flatten)            (None, 25088)             0         \n",
      "_________________________________________________________________\n",
      "dense (Dense)                (None, 256)               6422784   \n",
      "_________________________________________________________________\n",
      "batch_normalization (BatchNo (None, 256)               1024      \n",
      "_________________________________________________________________\n",
      "dropout (Dropout)            (None, 256)               0         \n",
      "_________________________________________________________________\n",
      "dense_1 (Dense)              (None, 5)                 1285      \n",
      "=================================================================\n",
      "Total params: 21,139,781\n",
      "Trainable params: 6,424,581\n",
      "Non-trainable params: 14,715,200\n",
      "_________________________________________________________________\n"
     ]
    }
   ],
   "source": [
    "\n",
    "model = tf.keras.models.Sequential([\n",
    "    pre_trained_model,\n",
    "    \n",
    "    Flatten(),    \n",
    "    Dense(256,activation=\"relu\"),\n",
    "    BatchNormalization(),\n",
    "    Dropout(0.5),\n",
    "    Dense(5, activation='softmax')\n",
    "])\n",
    "\n",
    "model.summary()"
   ]
  },
  {
   "cell_type": "code",
   "execution_count": 12,
   "id": "53be3d10",
   "metadata": {
    "execution": {
     "iopub.execute_input": "2023-01-05T18:24:30.536767Z",
     "iopub.status.busy": "2023-01-05T18:24:30.535883Z",
     "iopub.status.idle": "2023-01-05T18:24:30.546777Z",
     "shell.execute_reply": "2023-01-05T18:24:30.545941Z"
    },
    "id": "8oRFDhFvFU_v",
    "papermill": {
     "duration": 0.0236,
     "end_time": "2023-01-05T18:24:30.548734",
     "exception": false,
     "start_time": "2023-01-05T18:24:30.525134",
     "status": "completed"
    },
    "tags": []
   },
   "outputs": [],
   "source": [
    "model.compile(\n",
    "            optimizer=\"adam\",\n",
    "            loss='categorical_crossentropy',\n",
    "            metrics = ['acc']\n",
    ")"
   ]
  },
  {
   "cell_type": "code",
   "execution_count": 13,
   "id": "5e0204c9",
   "metadata": {
    "execution": {
     "iopub.execute_input": "2023-01-05T18:24:30.569824Z",
     "iopub.status.busy": "2023-01-05T18:24:30.568948Z",
     "iopub.status.idle": "2023-01-05T18:24:40.217369Z",
     "shell.execute_reply": "2023-01-05T18:24:40.216218Z"
    },
    "id": "uLDDC89rGgVl",
    "outputId": "719d16f7-7472-4cd2-ca99-1d78a04ab991",
    "papermill": {
     "duration": 9.661365,
     "end_time": "2023-01-05T18:24:40.219935",
     "exception": false,
     "start_time": "2023-01-05T18:24:30.558570",
     "status": "completed"
    },
    "tags": []
   },
   "outputs": [
    {
     "name": "stdout",
     "output_type": "stream",
     "text": [
      "Requirement already satisfied: pillow in /opt/conda/lib/python3.7/site-packages (9.1.1)\r\n",
      "\u001b[33mWARNING: Running pip as the 'root' user can result in broken permissions and conflicting behaviour with the system package manager. It is recommended to use a virtual environment instead: https://pip.pypa.io/warnings/venv\u001b[0m\u001b[33m\r\n",
      "\u001b[0m"
     ]
    }
   ],
   "source": [
    "!pip install pillow"
   ]
  },
  {
   "cell_type": "code",
   "execution_count": 14,
   "id": "240ba1fa",
   "metadata": {
    "execution": {
     "iopub.execute_input": "2023-01-05T18:24:40.242829Z",
     "iopub.status.busy": "2023-01-05T18:24:40.241292Z",
     "iopub.status.idle": "2023-01-05T18:24:40.246589Z",
     "shell.execute_reply": "2023-01-05T18:24:40.245730Z"
    },
    "id": "uwCHKFYbGkZC",
    "papermill": {
     "duration": 0.018352,
     "end_time": "2023-01-05T18:24:40.248587",
     "exception": false,
     "start_time": "2023-01-05T18:24:40.230235",
     "status": "completed"
    },
    "tags": []
   },
   "outputs": [],
   "source": [
    "from PIL import ImageFile\n",
    "ImageFile.LOAD_TRUNCATED_IMAGES = True"
   ]
  },
  {
   "cell_type": "code",
   "execution_count": 15,
   "id": "567f468e",
   "metadata": {
    "execution": {
     "iopub.execute_input": "2023-01-05T18:24:40.269401Z",
     "iopub.status.busy": "2023-01-05T18:24:40.268606Z",
     "iopub.status.idle": "2023-01-05T18:33:29.063085Z",
     "shell.execute_reply": "2023-01-05T18:33:29.061982Z"
    },
    "id": "9oC5-ovJFXqL",
    "outputId": "0e50ee26-ad2e-437b-9989-2cf8bbe1090e",
    "papermill": {
     "duration": 528.807546,
     "end_time": "2023-01-05T18:33:29.065711",
     "exception": false,
     "start_time": "2023-01-05T18:24:40.258165",
     "status": "completed"
    },
    "tags": []
   },
   "outputs": [
    {
     "name": "stderr",
     "output_type": "stream",
     "text": [
      "2023-01-05 18:24:41.625786: I tensorflow/compiler/mlir/mlir_graph_optimization_pass.cc:185] None of the MLIR Optimization Passes are enabled (registered 2)\n"
     ]
    },
    {
     "name": "stdout",
     "output_type": "stream",
     "text": [
      "Epoch 1/8\n"
     ]
    },
    {
     "name": "stderr",
     "output_type": "stream",
     "text": [
      "2023-01-05 18:24:44.442132: I tensorflow/stream_executor/cuda/cuda_dnn.cc:369] Loaded cuDNN version 8005\n"
     ]
    },
    {
     "name": "stdout",
     "output_type": "stream",
     "text": [
      "34/34 [==============================] - 69s 2s/step - loss: 0.8471 - acc: 0.7206 - val_loss: 0.2167 - val_acc: 0.9234\n",
      "Epoch 2/8\n",
      "34/34 [==============================] - 45s 1s/step - loss: 0.3446 - acc: 0.9010 - val_loss: 0.1832 - val_acc: 0.9340\n",
      "Epoch 3/8\n",
      "34/34 [==============================] - 44s 1s/step - loss: 0.2244 - acc: 0.9325 - val_loss: 0.1471 - val_acc: 0.9511\n",
      "Epoch 4/8\n",
      "34/34 [==============================] - 44s 1s/step - loss: 0.1586 - acc: 0.9565 - val_loss: 0.1448 - val_acc: 0.9553\n",
      "Epoch 5/8\n",
      "34/34 [==============================] - 44s 1s/step - loss: 0.1165 - acc: 0.9722 - val_loss: 0.1179 - val_acc: 0.9617\n",
      "Epoch 6/8\n",
      "34/34 [==============================] - 44s 1s/step - loss: 0.0877 - acc: 0.9769 - val_loss: 0.1817 - val_acc: 0.9404\n",
      "Epoch 7/8\n",
      "34/34 [==============================] - 44s 1s/step - loss: 0.0872 - acc: 0.9796 - val_loss: 0.1629 - val_acc: 0.9574\n",
      "Epoch 8/8\n",
      "34/34 [==============================] - 44s 1s/step - loss: 0.0535 - acc: 0.9889 - val_loss: 0.1782 - val_acc: 0.9511\n"
     ]
    }
   ],
   "source": [
    "history = model.fit_generator(\n",
    "            train_generator,\n",
    "            validation_data=test_generator,\n",
    "            epochs=8\n",
    ")"
   ]
  },
  {
   "cell_type": "markdown",
   "id": "a77387f8",
   "metadata": {
    "id": "ygVGsqsBI333",
    "papermill": {
     "duration": 0.024992,
     "end_time": "2023-01-05T18:33:29.116737",
     "exception": false,
     "start_time": "2023-01-05T18:33:29.091745",
     "status": "completed"
    },
    "tags": []
   },
   "source": [
    "**Training and Validation loss and Accuracy**"
   ]
  },
  {
   "cell_type": "code",
   "execution_count": 16,
   "id": "2f8913a0",
   "metadata": {
    "execution": {
     "iopub.execute_input": "2023-01-05T18:33:29.168992Z",
     "iopub.status.busy": "2023-01-05T18:33:29.167846Z",
     "iopub.status.idle": "2023-01-05T18:33:29.634096Z",
     "shell.execute_reply": "2023-01-05T18:33:29.633206Z"
    },
    "id": "XIv4glpbFZMO",
    "outputId": "8de0c0d2-e04b-4a38-8444-1080087ecb4b",
    "papermill": {
     "duration": 0.494434,
     "end_time": "2023-01-05T18:33:29.636240",
     "exception": false,
     "start_time": "2023-01-05T18:33:29.141806",
     "status": "completed"
    },
    "tags": []
   },
   "outputs": [
    {
     "data": {
      "text/plain": [
       "Text(0.5, 1.0, 'Training and validation loss')"
      ]
     },
     "execution_count": 16,
     "metadata": {},
     "output_type": "execute_result"
    },
    {
     "data": {
      "image/png": "[encoded data removed]",
      "text/plain": [
       "<Figure size 432x288 with 1 Axes>"
      ]
     },
     "metadata": {
      "needs_background": "light"
     },
     "output_type": "display_data"
    },
    {
     "data": {
      "image/png": "[encoded data removed]",
      "text/plain": [
       "<Figure size 432x288 with 1 Axes>"
      ]
     },
     "metadata": {
      "needs_background": "light"
     },
     "output_type": "display_data"
    }
   ],
   "source": [
    "import matplotlib.pyplot as plt\n",
    "\n",
    "acc      = history.history['acc']\n",
    "val_acc  = history.history['val_acc']\n",
    "loss     = history.history['loss']\n",
    "val_loss = history.history['val_loss']\n",
    "\n",
    "epochs   = range(len(acc))\n",
    "\n",
    "\n",
    "# Plot training and validation accuracy per epoch\n",
    "plt.plot(epochs,acc)\n",
    "plt.plot(epochs,val_acc)\n",
    "plt.title('Training and validation accuracy')\n",
    "plt.legend(['train','val'])\n",
    "plt.figure()\n",
    "\n",
    "# Plot training and validation loss per epoch\n",
    "plt.plot(epochs,loss)\n",
    "plt.plot(epochs,val_loss)\n",
    "plt.legend(['train','val'])\n",
    "plt.title('Training and validation loss')"
   ]
  },
  {
   "cell_type": "code",
   "execution_count": 17,
   "id": "30e9d78e",
   "metadata": {
    "execution": {
     "iopub.execute_input": "2023-01-05T18:33:29.690408Z",
     "iopub.status.busy": "2023-01-05T18:33:29.689422Z",
     "iopub.status.idle": "2023-01-05T18:34:18.662988Z",
     "shell.execute_reply": "2023-01-05T18:34:18.661934Z"
    },
    "id": "Pc1QK90HIJ4c",
    "outputId": "53d71c09-9de1-4e81-89b4-b71833360b6f",
    "papermill": {
     "duration": 49.002936,
     "end_time": "2023-01-05T18:34:18.665343",
     "exception": false,
     "start_time": "2023-01-05T18:33:29.662407",
     "status": "completed"
    },
    "tags": []
   },
   "outputs": [
    {
     "name": "stdout",
     "output_type": "stream",
     "text": [
      "34/34 [==============================] - 27s 789ms/step - loss: 0.0267 - acc: 0.9963\n",
      "15/15 [==============================] - 16s 1s/step - loss: 0.1602 - acc: 0.9511\n",
      "final train accuracy = 99.63 , Test accuracy = 95.11\n"
     ]
    }
   ],
   "source": [
    "train_loss, train_acc = model.evaluate(train_generator)\n",
    "test_loss, test_acc   = model.evaluate(test_generator)\n",
    "print(\"final train accuracy = {:.2f} , Test accuracy = {:.2f}\".format(train_acc*100, test_acc*100))"
   ]
  }
 ],
 "metadata": {
  "kernelspec": {
   "display_name": "Python 3",
   "language": "python",
   "name": "python3"
  },
  "language_info": {
   "codemirror_mode": {
    "name": "ipython",
    "version": 3
   },
   "file_extension": ".py",
   "mimetype": "text/x-python",
   "name": "python",
   "nbconvert_exporter": "python",
   "pygments_lexer": "ipython3",
   "version": "3.7.12"
  },
  "papermill": {
   "default_parameters": {},
   "duration": 676.531507,
   "end_time": "2023-01-05T18:34:21.973508",
   "environment_variables": {},
   "exception": null,
   "input_path": "__notebook__.ipynb",
   "output_path": "__notebook__.ipynb",
   "parameters": {},
   "start_time": "2023-01-05T18:23:05.442001",
   "version": "2.3.4"
  }
 },
 "nbformat": 4,
 "nbformat_minor": 5
}
