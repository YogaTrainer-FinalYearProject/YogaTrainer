{
  "cells": [
    {
      "cell_type": "code",
      "source": [
        "# !pip install numpy\n",
        "# !pip install opencv-python\n",
        "# !pip install tqdm\n",
        "# !pip install mediapipe"
      ],
      "outputs": [],
      "execution_count": 1,
      "metadata": {
        "execution": {
          "iopub.execute_input": "2022-02-21T13:49:01.928623Z",
          "iopub.status.busy": "2022-02-21T13:49:01.927028Z",
          "iopub.status.idle": "2022-02-21T13:49:46.968011Z",
          "shell.execute_reply": "2022-02-21T13:49:46.967381Z",
          "shell.execute_reply.started": "2022-02-21T13:33:37.585098Z"
        },
        "papermill": {
          "duration": 45.057967,
          "end_time": "2022-02-21T13:49:46.968163",
          "exception": false,
          "start_time": "2022-02-21T13:49:01.910196",
          "status": "completed"
        },
        "tags": [],
        "gather": {
          "logged": 1679854107113
        }
      },
      "id": "67d194c4"
    },
    {
      "cell_type": "code",
      "source": [
        "images_in_folder = './DATASET/TRAIN'\n",
        "images_out_folder = 'fitness_poses_images_out_basic'\n",
        "csv_out_path = 'fitness_poses_csvs_out_basic.csv'"
      ],
      "outputs": [],
      "execution_count": 1,
      "metadata": {
        "execution": {
          "iopub.execute_input": "2022-02-21T13:49:47.097104Z",
          "iopub.status.busy": "2022-02-21T13:49:47.096199Z",
          "iopub.status.idle": "2022-02-21T13:49:47.098007Z",
          "shell.execute_reply": "2022-02-21T13:49:47.098437Z",
          "shell.execute_reply.started": "2022-02-21T13:36:50.617523Z"
        },
        "papermill": {
          "duration": 0.067995,
          "end_time": "2022-02-21T13:49:47.098578",
          "exception": false,
          "start_time": "2022-02-21T13:49:47.030583",
          "status": "completed"
        },
        "tags": [],
        "gather": {
          "logged": 1679932582632
        }
      },
      "id": "91294297"
    },
    {
      "cell_type": "code",
      "source": [
        "import csv\n",
        "import cv2\n",
        "import numpy as np\n",
        "import os\n",
        "import sys\n",
        "import tqdm\n",
        "\n",
        "from mediapipe.python.solutions import drawing_utils as mp_drawing\n",
        "from mediapipe.python.solutions import pose as mp_pose\n",
        "\n",
        "with open(csv_out_path, 'w') as csv_out_file:\n",
        "    csv_out_writer = csv.writer(csv_out_file, delimiter=',', quoting=csv.QUOTE_MINIMAL)\n",
        "\n",
        "      # Folder names are used as pose class names.\n",
        "    pose_class_names = sorted([n for n in os.listdir(images_in_folder) if not n.startswith('.')])\n",
        "\n",
        "    for pose_class_name in pose_class_names:\n",
        "        print('Bootstrapping ', pose_class_name, file=sys.stderr)\n",
        "        if not os.path.exists(os.path.join(images_out_folder, pose_class_name)):\n",
        "            os.makedirs(os.path.join(images_out_folder, pose_class_name))\n",
        "        image_names = sorted([\n",
        "            n for n in os.listdir(os.path.join(images_in_folder, pose_class_name))\n",
        "            if not n.startswith('.')])\n",
        "        for image_name in tqdm.tqdm(image_names, position=0):\n",
        "          # Load image.\n",
        "          input_frame = cv2.imread(os.path.join(images_in_folder, pose_class_name, image_name))\n",
        "        input_frame = cv2.cvtColor(input_frame, cv2.COLOR_BGR2RGB)\n",
        "\n",
        "          # Initialize fresh pose tracker and run it.\n",
        "        with mp_pose.Pose() as pose_tracker:\n",
        "            result = pose_tracker.process(image=input_frame)\n",
        "            pose_landmarks = result.pose_landmarks\n",
        "\n",
        "          # Save image with pose prediction (if pose was detected).\n",
        "        output_frame = input_frame.copy()\n",
        "        if pose_landmarks is not None:\n",
        "            mp_drawing.draw_landmarks(\n",
        "                image=output_frame,\n",
        "                landmark_list=pose_landmarks,\n",
        "                connections=mp_pose.POSE_CONNECTIONS)\n",
        "        output_frame = cv2.cvtColor(output_frame, cv2.COLOR_RGB2BGR)\n",
        "        cv2.imwrite(os.path.join(images_out_folder, image_name), output_frame)\n",
        "\n",
        "          # Save landmarks.\n",
        "        if pose_landmarks is not None:\n",
        "            # Check the number of landmarks and take pose landmarks.\n",
        "            assert len(pose_landmarks.landmark) == 33, 'Unexpected number of predicted pose landmarks: {}'.format(len(pose_landmarks.landmark))\n",
        "            pose_landmarks = [[lmk.x, lmk.y, lmk.z] for lmk in pose_landmarks.landmark]\n",
        "\n",
        "            # Map pose landmarks from [0, 1] range to absolute coordinates to get\n",
        "            # correct aspect ratio.\n",
        "            frame_height, frame_width = output_frame.shape[:2]\n",
        "            pose_landmarks *= np.array([frame_width, frame_height, frame_width])\n",
        "\n",
        "            # Write pose sample to CSV.\n",
        "            pose_landmarks = np.around(pose_landmarks, 5).flatten().astype(np.str).tolist()\n",
        "            csv_out_writer.writerow([image_name, pose_class_name] + pose_landmarks)\n"
      ],
      "outputs": [
        {
          "output_type": "stream",
          "name": "stderr",
          "text": "Bootstrapping  downdog\n100%|██████████| 223/223 [00:08<00:00, 26.12it/s]\nINFO: Created TensorFlow Lite XNNPACK delegate for CPU.\n/tmp/ipykernel_9141/1768560441.py:56: DeprecationWarning: `np.str` is a deprecated alias for the builtin `str`. To silence this warning, use `str` by itself. Doing this will not modify any behavior and is safe. If you specifically wanted the numpy scalar type, use `np.str_` here.\nDeprecated in NumPy 1.20; for more details and guidance: https://numpy.org/devdocs/release/1.20.0-notes.html#deprecations\n  pose_landmarks = np.around(pose_landmarks, 5).flatten().astype(np.str).tolist()\nBootstrapping  goddess\n 67%|██████▋   | 121/180 [00:08<00:03, 15.77it/s]Corrupt JPEG data: premature end of data segment\n100%|██████████| 180/180 [00:12<00:00, 13.90it/s]\nBootstrapping  plank\n100%|██████████| 266/266 [00:17<00:00, 14.96it/s]\nBootstrapping  tree\n 26%|██▋       | 42/160 [00:02<00:06, 17.88it/s]Premature end of JPEG file\n100%|██████████| 160/160 [00:12<00:00, 12.55it/s]\nBootstrapping  warrior2\n100%|██████████| 252/252 [00:17<00:00, 14.43it/s]\n"
        }
      ],
      "execution_count": 3,
      "metadata": {
        "execution": {
          "iopub.execute_input": "2022-02-21T13:49:47.229922Z",
          "iopub.status.busy": "2022-02-21T13:49:47.229111Z",
          "iopub.status.idle": "2022-02-21T13:50:11.961237Z",
          "shell.execute_reply": "2022-02-21T13:50:11.961745Z",
          "shell.execute_reply.started": "2022-02-21T13:39:27.931625Z"
        },
        "papermill": {
          "duration": 24.80505,
          "end_time": "2022-02-21T13:50:11.961920",
          "exception": false,
          "start_time": "2022-02-21T13:49:47.156870",
          "status": "completed"
        },
        "tags": [],
        "gather": {
          "logged": 1679932799426
        }
      },
      "id": "d316695a"
    },
    {
      "cell_type": "code",
      "source": [
        "import pandas as pd\n",
        "df = pd.read_csv('./fitness_poses_csvs_out_basic.csv')\n",
        "df.tail()"
      ],
      "outputs": [
        {
          "output_type": "execute_result",
          "execution_count": 4,
          "data": {
            "text/plain": "   00000427.jpg   downdog   173.51081  629.28033   -97.5422   162.36895  \\\n0  00000401.jpg   goddess   183.13453  218.72329 -380.40924   187.59159   \n1  00000440.jpg     plank    63.19916   77.00044  -71.20605    61.97592   \n2    File84.jpg      tree  1089.95476  156.51797 -248.29167  1097.34844   \n3  00000438.jpg  warrior2   471.19268  715.32705  123.60308   465.22788   \n\n   630.64472  -120.30973   161.35009  629.44993  ...   -69.4363   447.44623  \\\n0  213.27152  -363.54706   190.06060  213.29792  ...   23.32020   130.06577   \n1   72.33012   -63.98299    62.74045   71.14140  ...   40.30488   231.78807   \n2  138.42693  -208.61801  1103.74866  138.44502  ...  528.58583  1115.96855   \n3  703.90811   110.53562   461.07924  703.05372  ...  257.69346   579.74907   \n\n    683.05438  139.86184   378.61522   148.83673  -198.62442   383.33168  \\\n0   409.55200   27.44759   263.75070   427.68334   -57.24016   112.37321   \n1   133.39856   17.12119   247.75290   129.45002   -16.60351   246.38909   \n2   934.75349  307.68977  1080.84377   717.60290   463.83662  1109.51557   \n3  1093.32558  148.39453   211.21090  1086.36185   251.09657   645.92125   \n\n    699.25347   97.32224  \n0   429.84871  -46.95151  \n1   132.64798  -40.27478  \n2   982.97223  115.05697  \n3  1081.85484  142.38165  \n\n[4 rows x 101 columns]",
            "text/html": "<div>\n<style scoped>\n    .dataframe tbody tr th:only-of-type {\n        vertical-align: middle;\n    }\n\n    .dataframe tbody tr th {\n        vertical-align: top;\n    }\n\n    .dataframe thead th {\n        text-align: right;\n    }\n</style>\n<table border=\"1\" class=\"dataframe\">\n  <thead>\n    <tr style=\"text-align: right;\">\n      <th></th>\n      <th>00000427.jpg</th>\n      <th>downdog</th>\n      <th>173.51081</th>\n      <th>629.28033</th>\n      <th>-97.5422</th>\n      <th>162.36895</th>\n      <th>630.64472</th>\n      <th>-120.30973</th>\n      <th>161.35009</th>\n      <th>629.44993</th>\n      <th>...</th>\n      <th>-69.4363</th>\n      <th>447.44623</th>\n      <th>683.05438</th>\n      <th>139.86184</th>\n      <th>378.61522</th>\n      <th>148.83673</th>\n      <th>-198.62442</th>\n      <th>383.33168</th>\n      <th>699.25347</th>\n      <th>97.32224</th>\n    </tr>\n  </thead>\n  <tbody>\n    <tr>\n      <th>0</th>\n      <td>00000401.jpg</td>\n      <td>goddess</td>\n      <td>183.13453</td>\n      <td>218.72329</td>\n      <td>-380.40924</td>\n      <td>187.59159</td>\n      <td>213.27152</td>\n      <td>-363.54706</td>\n      <td>190.06060</td>\n      <td>213.29792</td>\n      <td>...</td>\n      <td>23.32020</td>\n      <td>130.06577</td>\n      <td>409.55200</td>\n      <td>27.44759</td>\n      <td>263.75070</td>\n      <td>427.68334</td>\n      <td>-57.24016</td>\n      <td>112.37321</td>\n      <td>429.84871</td>\n      <td>-46.95151</td>\n    </tr>\n    <tr>\n      <th>1</th>\n      <td>00000440.jpg</td>\n      <td>plank</td>\n      <td>63.19916</td>\n      <td>77.00044</td>\n      <td>-71.20605</td>\n      <td>61.97592</td>\n      <td>72.33012</td>\n      <td>-63.98299</td>\n      <td>62.74045</td>\n      <td>71.14140</td>\n      <td>...</td>\n      <td>40.30488</td>\n      <td>231.78807</td>\n      <td>133.39856</td>\n      <td>17.12119</td>\n      <td>247.75290</td>\n      <td>129.45002</td>\n      <td>-16.60351</td>\n      <td>246.38909</td>\n      <td>132.64798</td>\n      <td>-40.27478</td>\n    </tr>\n    <tr>\n      <th>2</th>\n      <td>File84.jpg</td>\n      <td>tree</td>\n      <td>1089.95476</td>\n      <td>156.51797</td>\n      <td>-248.29167</td>\n      <td>1097.34844</td>\n      <td>138.42693</td>\n      <td>-208.61801</td>\n      <td>1103.74866</td>\n      <td>138.44502</td>\n      <td>...</td>\n      <td>528.58583</td>\n      <td>1115.96855</td>\n      <td>934.75349</td>\n      <td>307.68977</td>\n      <td>1080.84377</td>\n      <td>717.60290</td>\n      <td>463.83662</td>\n      <td>1109.51557</td>\n      <td>982.97223</td>\n      <td>115.05697</td>\n    </tr>\n    <tr>\n      <th>3</th>\n      <td>00000438.jpg</td>\n      <td>warrior2</td>\n      <td>471.19268</td>\n      <td>715.32705</td>\n      <td>123.60308</td>\n      <td>465.22788</td>\n      <td>703.90811</td>\n      <td>110.53562</td>\n      <td>461.07924</td>\n      <td>703.05372</td>\n      <td>...</td>\n      <td>257.69346</td>\n      <td>579.74907</td>\n      <td>1093.32558</td>\n      <td>148.39453</td>\n      <td>211.21090</td>\n      <td>1086.36185</td>\n      <td>251.09657</td>\n      <td>645.92125</td>\n      <td>1081.85484</td>\n      <td>142.38165</td>\n    </tr>\n  </tbody>\n</table>\n<p>4 rows × 101 columns</p>\n</div>"
          },
          "metadata": {}
        }
      ],
      "execution_count": 4,
      "metadata": {
        "execution": {
          "iopub.execute_input": "2022-02-21T13:50:12.206359Z",
          "iopub.status.busy": "2022-02-21T13:50:12.205583Z",
          "iopub.status.idle": "2022-02-21T13:50:12.243969Z",
          "shell.execute_reply": "2022-02-21T13:50:12.244406Z",
          "shell.execute_reply.started": "2022-02-21T13:42:41.807900Z"
        },
        "papermill": {
          "duration": 0.16373,
          "end_time": "2022-02-21T13:50:12.244595",
          "exception": false,
          "start_time": "2022-02-21T13:50:12.080865",
          "status": "completed"
        },
        "tags": [],
        "gather": {
          "logged": 1679932839687
        }
      },
      "id": "29aab7e0"
    }
  ],
  "metadata": {
    "kernelspec": {
      "name": "python38-azureml",
      "language": "python",
      "display_name": "Python 3.8 - AzureML"
    },
    "language_info": {
      "name": "python",
      "version": "3.8.10",
      "mimetype": "text/x-python",
      "codemirror_mode": {
        "name": "ipython",
        "version": 3
      },
      "pygments_lexer": "ipython3",
      "nbconvert_exporter": "python",
      "file_extension": ".py"
    },
    "papermill": {
      "output_path": "__notebook__.ipynb",
      "default_parameters": {},
      "start_time": "2022-02-21T13:48:53.538239",
      "parameters": {},
      "environment_variables": {},
      "exception": null,
      "end_time": "2022-02-21T13:50:12.771077",
      "duration": 79.232838,
      "version": "2.3.3",
      "input_path": "__notebook__.ipynb"
    },
    "microsoft": {
      "ms_spell_check": {
        "ms_spell_check_language": "en"
      },
      "host": {
        "AzureML": {
          "notebookHasBeenCompleted": true
        }
      }
    },
    "kernel_info": {
      "name": "python38-azureml"
    },
    "nteract": {
      "version": "nteract-front-end@1.0.0"
    }
  },
  "nbformat": 4,
  "nbformat_minor": 5
}